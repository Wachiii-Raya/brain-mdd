{
 "cells": [
  {
   "cell_type": "markdown",
   "metadata": {},
   "source": [
    "## Brain-MDD Project\n",
    "- Capstone Project"
   ]
  },
  {
   "cell_type": "code",
   "execution_count": 1,
   "metadata": {},
   "outputs": [],
   "source": [
    "import dotenv\n",
    "import numpy as np\n",
    "import os\n",
    "import matplotlib.pyplot as plt\n",
    "import pandas as pd\n",
    "import mne\n",
    "import enum\n",
    "\n",
    "dotenv.load_dotenv()\n",
    "\n",
    "class ChannelMapping(enum.Enum):\n",
    "    Fp1 = 22\n",
    "    Fp2 = 9\n",
    "    F3 = 24\n",
    "    F4 = 124\n",
    "    C3 = 36\n",
    "    C4 = 104\n",
    "    P3 = 52\n",
    "    P4 = 92\n",
    "    O1 = 70\n",
    "    O2 = 83\n",
    "    F7 = 33\n",
    "    F8 = 122\n",
    "    T3 = 45\n",
    "    T4 = 108\n",
    "    T5 = 58\n",
    "    T6 = 96"
   ]
  },
  {
   "cell_type": "code",
   "execution_count": 3,
   "metadata": {},
   "outputs": [
    {
     "name": "stdout",
     "output_type": "stream",
     "text": [
      "<class 'str'>\n"
     ]
    }
   ],
   "source": [
    "# Get the path to the EEG data and report\n",
    "eegPath = os.getenv(\"EEG_DIR_PATH\")\n",
    "rawDataPath = os.getenv(\"EEG_DIR_PATH\") + \"/raw\"\n",
    "eeg16ChannelPath = os.getenv(\"EEG_DIR_PATH\") + \"/16channels\"\n",
    "filteredDataPath = os.getenv(\"EEG_DIR_PATH\") + \"/filtered\"\n",
    "reportPath = os.getenv(\"EEG_REPORT_PATH\")\n",
    "epochsPath = os.getenv(\"EEG_DIR_PATH\") + \"/epochs\"\n",
    "\n",
    "report = pd.read_excel(reportPath)\n",
    "reportDf = pd.DataFrame(report)\n",
    "reportDf[\"subject id\"] = reportDf[\"subject id\"].astype(str)\n",
    "print(type(reportDf[\"subject id\"][0]))"
   ]
  },
  {
   "cell_type": "markdown",
   "metadata": {},
   "source": [
    "## Preprocessing\n",
    "- Channel selection\n",
    "- 5th-Order Butterworth bandpass filter\n",
    "- ICA (next sprint)\n",
    "- save as .fif file format + map with label\n",
    "- do epoch"
   ]
  },
  {
   "cell_type": "code",
   "execution_count": null,
   "metadata": {},
   "outputs": [],
   "source": [
    "# select the channels of interest; 16 channels\n",
    "for file in os.listdir(rawDataPath):\n",
    "    if file.endswith(\".npy\"):\n",
    "        data = np.load(rawDataPath + \"/\" + file)\n",
    "        selectedChannelsEeg = []\n",
    "        for channel in ChannelMapping:\n",
    "            selectedChannelsEeg.append(data[channel.value])\n",
    "        selectedChannelsEeg = np.array(selectedChannelsEeg)\n",
    "        print(selectedChannelsEeg.shape)\n",
    "        np.save(eegPath + \"/16channels/\" + file, selectedChannelsEeg)"
   ]
  },
  {
   "cell_type": "code",
   "execution_count": null,
   "metadata": {},
   "outputs": [],
   "source": [
    "channelNames = [channel.name for channel in ChannelMapping]\n",
    "channelTypes = [\"eeg\"] * len(channelNames)\n",
    "sfreq = 250\n",
    "\n",
    "# filtering and saving the data\n",
    "for eeg16ChannelFile in os.listdir(eeg16ChannelPath):\n",
    "    if eeg16ChannelFile.endswith(\".npy\"):\n",
    "        data = np.load(eeg16ChannelPath + \"/\" + eeg16ChannelFile)\n",
    "        info = mne.create_info(channelNames, sfreq, channelTypes)\n",
    "        raw = mne.io.RawArray(data, info)\n",
    "        \n",
    "        montage = mne.channels.make_standard_montage(\"standard_1020\")\n",
    "        raw.set_montage(montage)\n",
    "        \n",
    "        raw.filter(0.5, 40) # Bandpass filter 0.5 - 40 Hz\n",
    "        \n",
    "        # ica = mne.preprocessing.ICA(n_components=16, random_state=97, max_iter=800)\n",
    "        # ica.fit(raw)\n",
    "        # raw = ica.apply(raw)\n",
    "        \n",
    "        eeg16ChannelFile = eeg16ChannelFile.split(\".\")[0]\n",
    "        raw.save(eegPath + \"/filtered/\" + eeg16ChannelFile + \".fif\", overwrite=True)"
   ]
  },
  {
   "cell_type": "code",
   "execution_count": null,
   "metadata": {},
   "outputs": [],
   "source": [
    "# map data with labels\n",
    "mddDataLst = []\n",
    "controlDataLst = []\n",
    "\n",
    "# file name is matched with the \"subject id\" and label is \"type\"\n",
    "for file in os.listdir(filteredDataPath):\n",
    "    if file.endswith(\".fif\"):\n",
    "        subjectId = file.split(\".\")[0]\n",
    "        subjectId = subjectId[1:]\n",
    "        subjectId = str(subjectId)\n",
    "        result = reportDf[reportDf['subject id'] == subjectId]\n",
    "        if result.empty:\n",
    "            continue\n",
    "        label = result[\"type\"].values[0]\n",
    "        if label == \"MDD\":\n",
    "            mddDataLst.append(subjectId)\n",
    "        elif label == \"HC\":\n",
    "            controlDataLst.append(subjectId)\n",
    "        os.rename(filteredDataPath + \"/\" + file, filteredDataPath + \"/\" + subjectId + \"_\" + label + \".fif\")"
   ]
  },
  {
   "cell_type": "code",
   "execution_count": null,
   "metadata": {},
   "outputs": [],
   "source": [
    "# do epoch\n",
    "healthyControlEpochs = []\n",
    "mddEpochs = []\n",
    "\n",
    "# fs = 250, duration = 5s, samples = 250 * 5 = 1250\n",
    "for file in os.listdir(filteredDataPath):\n",
    "    if file.endswith(\".fif\"):\n",
    "        raw = mne.io.read_raw_fif(filteredDataPath + \"/\" + file)\n",
    "        subjectId = file.split(\"_\")[0]\n",
    "        label = file.split(\"_\")[1].split(\".\")[0]\n",
    "        if label == \"MDD\":\n",
    "            mddEpochs.append(mne.make_fixed_length_epochs(raw, duration=5, preload=True))\n",
    "        elif label == \"HC\":\n",
    "            healthyControlEpochs.append(mne.make_fixed_length_epochs(raw, duration=5, preload=True))\n",
    "            \n",
    "# save the epochs\n",
    "mddEpochs = mne.concatenate_epochs(mddEpochs)\n",
    "healthyControlEpochs = mne.concatenate_epochs(healthyControlEpochs)\n",
    "mddEpochs.save(epochsPath + \"/mdd-epo.fif\")\n",
    "healthyControlEpochs.save(epochsPath + \"/control-epo.fif\")"
   ]
  },
  {
   "cell_type": "markdown",
   "metadata": {},
   "source": [
    "## Feature Extraction"
   ]
  },
  {
   "cell_type": "code",
   "execution_count": 11,
   "metadata": {},
   "outputs": [],
   "source": [
    "import dotenv\n",
    "import numpy as np\n",
    "import os\n",
    "import matplotlib.pyplot as plt\n",
    "import pandas as pd\n",
    "from brainmdd.features.psd import EEGPowerSpectrum\n",
    "import mne\n",
    "import enum\n",
    "\n",
    "dotenv.load_dotenv()\n",
    "\n",
    "class ChannelMapping(enum.Enum):\n",
    "    Fp1 = 22\n",
    "    Fp2 = 9\n",
    "    F3 = 24\n",
    "    F4 = 124\n",
    "    C3 = 36\n",
    "    C4 = 104\n",
    "    P3 = 52\n",
    "    P4 = 92\n",
    "    O1 = 70\n",
    "    O2 = 83\n",
    "    F7 = 33\n",
    "    F8 = 122\n",
    "    T3 = 45\n",
    "    T4 = 108\n",
    "    T5 = 58\n",
    "    T6 = 96\n",
    "\n",
    "# Declare Feature Dictionary\n",
    "featureDict = {\n",
    "    \"norm_power\": {\n",
    "        \"mdd\": {\n",
    "            \"delta\": [],\n",
    "            \"theta\": [],\n",
    "            \"alpha\": [],\n",
    "            \"beta\": [],\n",
    "            \"gamma\": []\n",
    "            },\n",
    "        \"control\": {\n",
    "            \"delta\": [],\n",
    "            \"theta\": [],\n",
    "            \"alpha\": [],\n",
    "            \"beta\": [],\n",
    "            \"gamma\": []\n",
    "            }\n",
    "        }\n",
    "    }    \n",
    "\n",
    "# Get the path to the EEG data and report\n",
    "eegPath = os.getenv(\"EEG_DIR_PATH\")\n",
    "rawDataPath = os.getenv(\"EEG_DIR_PATH\") + \"/raw\"\n",
    "eeg16ChannelPath = os.getenv(\"EEG_DIR_PATH\") + \"/16channels\"\n",
    "filteredDataPath = os.getenv(\"EEG_DIR_PATH\") + \"/filtered\"\n",
    "epochsPath = os.getenv(\"EEG_DIR_PATH\") + \"/epochs\""
   ]
  },
  {
   "cell_type": "code",
   "execution_count": 2,
   "metadata": {},
   "outputs": [
    {
     "name": "stdout",
     "output_type": "stream",
     "text": [
      "Reading /Users/wachiii/Workschii/brain-mdd/data/epochs/mdd-epo.fif ...\n",
      "    Found the data of interest:\n",
      "        t =       0.00 ...    4996.00 ms\n",
      "        0 CTF compensation matrices available\n",
      "Not setting metadata\n",
      "1328 matching events found\n",
      "No baseline correction applied\n",
      "0 projection items activated\n",
      "Reading /Users/wachiii/Workschii/brain-mdd/data/epochs/control-epo.fif ...\n",
      "    Found the data of interest:\n",
      "        t =       0.00 ...    4996.00 ms\n",
      "        0 CTF compensation matrices available\n",
      "Not setting metadata\n",
      "1753 matching events found\n",
      "No baseline correction applied\n",
      "0 projection items activated\n"
     ]
    }
   ],
   "source": [
    "# Load the epochs\n",
    "mddEpochs = mne.read_epochs(epochsPath + \"/mdd-epo.fif\")\n",
    "controlEpochs = mne.read_epochs(epochsPath + \"/control-epo.fif\")\n",
    "mddEpochs = mddEpochs.get_data()\n",
    "controlEpochs = controlEpochs.get_data()"
   ]
  },
  {
   "cell_type": "code",
   "execution_count": 12,
   "metadata": {},
   "outputs": [
    {
     "name": "stdout",
     "output_type": "stream",
     "text": [
      "(1328, 5, 16)\n",
      "(1753, 5, 16)\n"
     ]
    }
   ],
   "source": [
    "psdObjMdd = EEGPowerSpectrum(mddEpochs, 250, ifNormalize=True)\n",
    "mddPsdFeatures = psdObjMdd.run()\n",
    "psdObjCtrl = EEGPowerSpectrum(controlEpochs, 250, ifNormalize=True)\n",
    "controlPsdFeatures = psdObjCtrl.run()\n",
    "print(mddPsdFeatures.shape)\n",
    "print(controlPsdFeatures.shape)"
   ]
  },
  {
   "cell_type": "code",
   "execution_count": 13,
   "metadata": {},
   "outputs": [],
   "source": [
    "for epoch in mddPsdFeatures:\n",
    "    bandCounter = 0\n",
    "    for band in epoch:\n",
    "        if bandCounter == 0:\n",
    "            featureDict[\"norm_power\"][\"mdd\"][\"delta\"].append(band)\n",
    "        elif bandCounter == 1:\n",
    "            featureDict[\"norm_power\"][\"mdd\"][\"theta\"].append(band)\n",
    "        elif bandCounter == 2:\n",
    "            featureDict[\"norm_power\"][\"mdd\"][\"alpha\"].append(band)\n",
    "        elif bandCounter == 3:\n",
    "            featureDict[\"norm_power\"][\"mdd\"][\"beta\"].append(band)\n",
    "        elif bandCounter == 4:\n",
    "            featureDict[\"norm_power\"][\"mdd\"][\"gamma\"].append(band)\n",
    "        bandCounter += 1\n",
    "\n",
    "for epoch in controlPsdFeatures:\n",
    "    bandCounter = 0\n",
    "    for band in epoch:\n",
    "        if bandCounter == 0:\n",
    "            featureDict[\"norm_power\"][\"control\"][\"delta\"].append(band)\n",
    "        elif bandCounter == 1:\n",
    "            featureDict[\"norm_power\"][\"control\"][\"theta\"].append(band)\n",
    "        elif bandCounter == 2:\n",
    "            featureDict[\"norm_power\"][\"control\"][\"alpha\"].append(band)\n",
    "        elif bandCounter == 3:\n",
    "            featureDict[\"norm_power\"][\"control\"][\"beta\"].append(band)\n",
    "        elif bandCounter == 4:\n",
    "            featureDict[\"norm_power\"][\"control\"][\"gamma\"].append(band)\n",
    "        bandCounter += 1                                                           "
   ]
  },
  {
   "cell_type": "code",
   "execution_count": 14,
   "metadata": {},
   "outputs": [
    {
     "name": "stdout",
     "output_type": "stream",
     "text": [
      "<class 'list'>\n",
      "1328\n",
      "<class 'numpy.ndarray'>\n",
      "(16,)\n",
      "[0.83056823 0.87734384 0.90729667 0.87926266 0.90732366 0.40353021\n",
      " 0.84019323 0.67680983 0.72123247 0.42196012 0.83618242 0.91446568\n",
      " 0.75412763 0.59408818 0.42842383 0.66620692]\n",
      "------------------\n",
      "<class 'list'>\n",
      "1753\n",
      "<class 'numpy.ndarray'>\n",
      "(16,)\n",
      "[0.98623744 0.98451825 0.98785362 0.98789097 0.99189221 0.96553099\n",
      " 0.99675056 0.37090386 0.99507843 0.36207738 0.99450565 0.98194598\n",
      " 0.96151343 0.94749412 0.99297081 0.8671709 ]\n"
     ]
    }
   ],
   "source": [
    "# check the shape of the features\n",
    "print(type(featureDict[\"norm_power\"][\"mdd\"][\"delta\"]))\n",
    "print(len(featureDict[\"norm_power\"][\"mdd\"][\"delta\"]))\n",
    "print(type(featureDict[\"norm_power\"][\"mdd\"][\"delta\"][0]))\n",
    "print((featureDict[\"norm_power\"][\"mdd\"][\"delta\"][0].shape))\n",
    "print(featureDict[\"norm_power\"][\"mdd\"][\"delta\"][0])\n",
    "\n",
    "print(\"------------------\")\n",
    "\n",
    "print(type(featureDict[\"norm_power\"][\"control\"][\"delta\"]))\n",
    "print(len(featureDict[\"norm_power\"][\"control\"][\"delta\"]))\n",
    "print(type(featureDict[\"norm_power\"][\"control\"][\"delta\"][0]))\n",
    "print((featureDict[\"norm_power\"][\"control\"][\"delta\"][0].shape))\n",
    "print(featureDict[\"norm_power\"][\"control\"][\"delta\"][0])"
   ]
  },
  {
   "cell_type": "markdown",
   "metadata": {},
   "source": [
    "## Classification"
   ]
  },
  {
   "cell_type": "code",
   "execution_count": 16,
   "metadata": {},
   "outputs": [
    {
     "name": "stdout",
     "output_type": "stream",
     "text": [
      "0.6532220676866017\n",
      "         f1  precision    recall  accuracy  sensitivity  specificity\n",
      "0  0.653222   0.653222  0.653222  0.653222     0.768233     0.499458\n"
     ]
    },
    {
     "data": {
      "image/png": "[encoded data removed]",
      "text/plain": [
       "<Figure size 640x480 with 2 Axes>"
      ]
     },
     "metadata": {},
     "output_type": "display_data"
    }
   ],
   "source": [
    "# train lda model from skimlearn\n",
    "\n",
    "from sklearn.discriminant_analysis import LinearDiscriminantAnalysis\n",
    "from sklearn.model_selection import train_test_split\n",
    "import matplotlib.pyplot as plt\n",
    "from sklearn.metrics import confusion_matrix\n",
    "import seaborn as sns\n",
    "import pandas as pd\n",
    "\n",
    "# Prepare the data\n",
    "deltaMdd = featureDict[\"norm_power\"][\"mdd\"][\"delta\"]\n",
    "deltaControl = featureDict[\"norm_power\"][\"control\"][\"delta\"]\n",
    "deltaMdd = np.array(deltaMdd)\n",
    "deltaControl = np.array(deltaControl)\n",
    "\n",
    "X = np.concatenate((deltaMdd, deltaControl), axis=0)\n",
    "y = np.concatenate((np.ones(len(deltaMdd)), np.zeros(len(deltaControl))), axis=0)\n",
    "X_train, X_test, y_train, y_test = train_test_split(X, y, test_size=0.7, random_state=500)\n",
    "\n",
    "\n",
    "lda = LinearDiscriminantAnalysis()\n",
    "lda.fit(X_train, y_train)\n",
    "print(lda.score(X_test, y_test))\n",
    "# show df of f1-score, precision, recall, accuracy\n",
    "\n",
    "\n",
    "y_pred = lda.predict(X_test)\n",
    "cm = confusion_matrix(y_test, y_pred)\n",
    "sns.heatmap(cm, annot=True, fmt='d', cmap='Blues')\n",
    "plt.xlabel('Predicted')\n",
    "plt.ylabel('Actual')\n",
    "plt.title('Confusion Matrix')\n",
    "\n",
    "f1 = 2 * (lda.score(X_test, y_test) * lda.score(X_test, y_test)) / (lda.score(X_test, y_test) + lda.score(X_test, y_test))\n",
    "precision = lda.score(X_test, y_test) / (lda.score(X_test, y_test) + 1 - lda.score(X_test, y_test))\n",
    "recall = lda.score(X_test, y_test) / (lda.score(X_test, y_test) + 1 - lda.score(X_test, y_test))\n",
    "sensitivity = cm[0, 0] / (cm[0, 0] + cm[0, 1])\n",
    "specificity = cm[1, 1] / (cm[1, 0] + cm[1, 1])\n",
    "accuracy = lda.score(X_test, y_test)\n",
    "\n",
    "# show as dataframe\n",
    "df = pd.DataFrame({\n",
    "    \"f1\": [f1],\n",
    "    \"precision\": [precision],\n",
    "    \"recall\": [recall],\n",
    "    \"accuracy\": [accuracy],\n",
    "    \"sensitivity\": [sensitivity],\n",
    "    \"specificity\": [specificity]\n",
    "})\n",
    "print(df)\n",
    "\n",
    "# Create a mesh grid\n",
    "# X_vis = X[:, :2]\n",
    "# x_min, x_max = X_vis[:, 0].min() - 1, X_vis[:, 0].max() + 1\n",
    "# y_min, y_max = X_vis[:, 1].min() - 1, X_vis[:, 1].max() + 1\n",
    "# xx, yy = np.meshgrid(np.linspace(x_min, x_max, 100), np.linspace(y_min, y_max, 100))\n",
    "\n",
    "# Z = lda.predict_proba(np.c_[xx.ravel(), yy.ravel()])[:, 1]\n",
    "# Z = Z.reshape(xx.shape)\n",
    "\n",
    "# plt.contourf(xx, yy, Z, alpha=0.3, cmap=plt.cm.Paired)\n",
    "# plt.scatter(X_train[:, 0], X_train[:, 1], c=y_train, edgecolors='k', marker='o', label='Train')\n",
    "# plt.scatter(X_test[:, 0], X_test[:, 1], c=y_test, edgecolors='k', marker='x', label='Test')\n",
    "# plt.xlabel('Feature 1')\n",
    "# plt.ylabel('Feature 2')\n",
    "# plt.title('LDA Decision Boundary')\n",
    "# plt.legend()\n",
    "\n",
    "plt.show()"
   ]
  },
  {
   "cell_type": "code",
   "execution_count": null,
   "metadata": {},
   "outputs": [],
   "source": []
  }
 ],
 "metadata": {
  "kernelspec": {
   "display_name": "brain-mdd",
   "language": "python",
   "name": "python3"
  },
  "language_info": {
   "codemirror_mode": {
    "name": "ipython",
    "version": 3
   },
   "file_extension": ".py",
   "mimetype": "text/x-python",
   "name": "python",
   "nbconvert_exporter": "python",
   "pygments_lexer": "ipython3",
   "version": "3.12.7"
  }
 },
 "nbformat": 4,
 "nbformat_minor": 2
}
