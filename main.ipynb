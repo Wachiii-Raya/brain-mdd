{
 "cells": [
  {
   "cell_type": "markdown",
   "metadata": {},
   "source": [
    "## Brain-MDD Project\n",
    "- Capstone Project"
   ]
  },
  {
   "cell_type": "code",
   "execution_count": 106,
   "metadata": {},
   "outputs": [],
   "source": [
    "import dotenv\n",
    "import numpy as np\n",
    "import os\n",
    "import matplotlib.pyplot as plt\n",
    "import pandas as pd\n",
    "import mne\n",
    "import enum\n",
    "\n",
    "dotenv.load_dotenv()\n",
    "\n",
    "class ChannelMapping(enum.Enum):\n",
    "    Fp1 = 22\n",
    "    Fp2 = 9\n",
    "    F3 = 24\n",
    "    F4 = 124\n",
    "    C3 = 36\n",
    "    C4 = 104\n",
    "    P3 = 52\n",
    "    P4 = 92\n",
    "    O1 = 70\n",
    "    O2 = 83\n",
    "    F7 = 33\n",
    "    F8 = 122\n",
    "    T3 = 45\n",
    "    T4 = 108\n",
    "    T5 = 58\n",
    "    T6 = 96"
   ]
  },
  {
   "cell_type": "code",
   "execution_count": 177,
   "metadata": {},
   "outputs": [
    {
     "name": "stdout",
     "output_type": "stream",
     "text": [
      "<class 'str'>\n"
     ]
    }
   ],
   "source": [
    "# Get the path to the EEG data and report\n",
    "eegPath = os.getenv(\"EEG_DIR_PATH\")\n",
    "rawDataPath = os.getenv(\"EEG_DIR_PATH\") + \"/raw\"\n",
    "eeg16ChannelPath = os.getenv(\"EEG_DIR_PATH\") + \"/16channels\"\n",
    "filteredDataPath = os.getenv(\"EEG_DIR_PATH\") + \"/filtered\"\n",
    "reportPath = os.getenv(\"EEG_REPORT_PATH\")\n",
    "\n",
    "report = pd.read_excel(reportPath)\n",
    "reportDf = pd.DataFrame(report)\n",
    "# cast the subject id to string\n",
    "reportDf[\"subject id\"] = reportDf[\"subject id\"].astype(str)\n",
    "print(type(reportDf[\"subject id\"][0]))"
   ]
  },
  {
   "cell_type": "markdown",
   "metadata": {},
   "source": [
    "## Preprocessing\n",
    "- Channel selection\n",
    "- 5th-Order Butterworth bandpass filter\n",
    "- ICA (next sprint)\n",
    "- save as .fif file format + map with label"
   ]
  },
  {
   "cell_type": "code",
   "execution_count": null,
   "metadata": {},
   "outputs": [],
   "source": [
    "for file in os.listdir(rawDataPath):\n",
    "    if file.endswith(\".npy\"):\n",
    "        data = np.load(rawDataPath + \"/\" + file)\n",
    "        selectedChannelsEeg = []\n",
    "        for channel in ChannelMapping:\n",
    "            selectedChannelsEeg.append(data[channel.value])\n",
    "        selectedChannelsEeg = np.array(selectedChannelsEeg)\n",
    "        print(selectedChannelsEeg.shape)\n",
    "        np.save(eegPath + \"/16channels/\" + file, selectedChannelsEeg)"
   ]
  },
  {
   "cell_type": "code",
   "execution_count": null,
   "metadata": {},
   "outputs": [],
   "source": [
    "channelNames = [channel.name for channel in ChannelMapping]\n",
    "channelTypes = [\"eeg\"] * len(channelNames)\n",
    "sfreq = 250\n",
    "\n",
    "\n",
    "for eeg16ChannelFile in os.listdir(eeg16ChannelPath):\n",
    "    if eeg16ChannelFile.endswith(\".npy\"):\n",
    "        data = np.load(eeg16ChannelPath + \"/\" + eeg16ChannelFile)\n",
    "        info = mne.create_info(channelNames, sfreq, channelTypes)\n",
    "        raw = mne.io.RawArray(data, info)\n",
    "        \n",
    "        montage = mne.channels.make_standard_montage(\"standard_1020\")\n",
    "        raw.set_montage(montage)\n",
    "        \n",
    "        raw.filter(0.5, 40) # Bandpass filter 0.5 - 40 Hz\n",
    "        \n",
    "        # ica = mne.preprocessing.ICA(n_components=16, random_state=97, max_iter=800)\n",
    "        # ica.fit(raw)\n",
    "        # raw = ica.apply(raw)\n",
    "        eeg16ChannelFile = eeg16ChannelFile.split(\".\")[0]\n",
    "        raw.save(eegPath + \"/filtered/\" + eeg16ChannelFile + \".fif\", overwrite=True)"
   ]
  },
  {
   "cell_type": "code",
   "execution_count": null,
   "metadata": {},
   "outputs": [
    {
     "name": "stdout",
     "output_type": "stream",
     "text": [
      "MDD data:  22\n",
      "Control data:  29\n"
     ]
    }
   ],
   "source": [
    "# map data with labels\n",
    "mddDataLst = []\n",
    "controlDataLst = []\n",
    "\n",
    "# file name is matched with the \"subject id\" and label is \"type\"\n",
    "for file in os.listdir(filteredDataPath):\n",
    "    if file.endswith(\".fif\"):\n",
    "        subjectId = file.split(\".\")[0]\n",
    "        subjectId = subjectId[1:]\n",
    "        subjectId = str(subjectId)\n",
    "        result = reportDf[reportDf['subject id'] == subjectId]\n",
    "        if result.empty:\n",
    "            continue\n",
    "        label = result[\"type\"].values[0]\n",
    "        if label == \"MDD\":\n",
    "            mddDataLst.append(file)\n",
    "        elif label == \"HC\":\n",
    "            controlDataLst.append(file)\n",
    "        os.rename(filteredDataPath + \"/\" + file, filteredDataPath + \"/\" + subjectId + \"_\" + label + \".fif\")"
   ]
  },
  {
   "cell_type": "code",
   "execution_count": null,
   "metadata": {},
   "outputs": [],
   "source": []
  }
 ],
 "metadata": {
  "kernelspec": {
   "display_name": "brain-mdd",
   "language": "python",
   "name": "python3"
  },
  "language_info": {
   "codemirror_mode": {
    "name": "ipython",
    "version": 3
   },
   "file_extension": ".py",
   "mimetype": "text/x-python",
   "name": "python",
   "nbconvert_exporter": "python",
   "pygments_lexer": "ipython3",
   "version": "3.12.7"
  }
 },
 "nbformat": 4,
 "nbformat_minor": 2
}
