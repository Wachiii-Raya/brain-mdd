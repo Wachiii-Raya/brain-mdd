{
 "cells": [
  {
   "cell_type": "markdown",
   "metadata": {},
   "source": [
    "## Brain-MDD Project\n",
    "- Capstone Project"
   ]
  },
  {
   "cell_type": "code",
   "execution_count": 106,
   "metadata": {},
   "outputs": [],
   "source": [
    "import dotenv\n",
    "import numpy as np\n",
    "import os\n",
    "import matplotlib.pyplot as plt\n",
    "import pandas as pd\n",
    "import mne\n",
    "import enum\n",
    "\n",
    "dotenv.load_dotenv()\n",
    "\n",
    "class ChannelMapping(enum.Enum):\n",
    "    Fp1 = 22\n",
    "    Fp2 = 9\n",
    "    F3 = 24\n",
    "    F4 = 124\n",
    "    C3 = 36\n",
    "    C4 = 104\n",
    "    P3 = 52\n",
    "    P4 = 92\n",
    "    O1 = 70\n",
    "    O2 = 83\n",
    "    F7 = 33\n",
    "    F8 = 122\n",
    "    T3 = 45\n",
    "    T4 = 108\n",
    "    T5 = 58\n",
    "    T6 = 96"
   ]
  },
  {
   "cell_type": "code",
   "execution_count": 177,
   "metadata": {},
   "outputs": [
    {
     "name": "stdout",
     "output_type": "stream",
     "text": [
      "<class 'str'>\n"
     ]
    }
   ],
   "source": [
    "# Get the path to the EEG data and report\n",
    "eegPath = os.getenv(\"EEG_DIR_PATH\")\n",
    "rawDataPath = os.getenv(\"EEG_DIR_PATH\") + \"/raw\"\n",
    "eeg16ChannelPath = os.getenv(\"EEG_DIR_PATH\") + \"/16channels\"\n",
    "filteredDataPath = os.getenv(\"EEG_DIR_PATH\") + \"/filtered\"\n",
    "reportPath = os.getenv(\"EEG_REPORT_PATH\")\n",
    "\n",
    "report = pd.read_excel(reportPath)\n",
    "reportDf = pd.DataFrame(report)\n",
    "# cast the subject id to string\n",
    "reportDf[\"subject id\"] = reportDf[\"subject id\"].astype(str)\n",
    "print(type(reportDf[\"subject id\"][0]))"
   ]
  },
  {
   "cell_type": "markdown",
   "metadata": {},
   "source": [
    "## Preprocessing\n",
    "- Channel selection\n",
    "- 5th-Order Butterworth bandpass filter\n",
    "- ICA (next sprint)\n",
    "- save as .fif file format + map with label"
   ]
  },
  {
   "cell_type": "code",
   "execution_count": null,
   "metadata": {},
   "outputs": [],
   "source": [
    "for file in os.listdir(rawDataPath):\n",
    "    if file.endswith(\".npy\"):\n",
    "        data = np.load(rawDataPath + \"/\" + file)\n",
    "        selectedChannelsEeg = []\n",
    "        for channel in ChannelMapping:\n",
    "            selectedChannelsEeg.append(data[channel.value])\n",
    "        selectedChannelsEeg = np.array(selectedChannelsEeg)\n",
    "        print(selectedChannelsEeg.shape)\n",
    "        np.save(eegPath + \"/16channels/\" + file, selectedChannelsEeg)"
   ]
  },
  {
   "cell_type": "code",
   "execution_count": null,
   "metadata": {},
   "outputs": [],
   "source": [
    "channelNames = [channel.name for channel in ChannelMapping]\n",
    "channelTypes = [\"eeg\"] * len(channelNames)\n",
    "sfreq = 250\n",
    "\n",
    "\n",
    "for eeg16ChannelFile in os.listdir(eeg16ChannelPath):\n",
    "    if eeg16ChannelFile.endswith(\".npy\"):\n",
    "        data = np.load(eeg16ChannelPath + \"/\" + eeg16ChannelFile)\n",
    "        info = mne.create_info(channelNames, sfreq, channelTypes)\n",
    "        raw = mne.io.RawArray(data, info)\n",
    "        \n",
    "        montage = mne.channels.make_standard_montage(\"standard_1020\")\n",
    "        raw.set_montage(montage)\n",
    "        \n",
    "        raw.filter(0.5, 40) # Bandpass filter 0.5 - 40 Hz\n",
    "        \n",
    "        # ica = mne.preprocessing.ICA(n_components=16, random_state=97, max_iter=800)\n",
    "        # ica.fit(raw)\n",
    "        # raw = ica.apply(raw)\n",
    "        eeg16ChannelFile = eeg16ChannelFile.split(\".\")[0]\n",
    "        raw.save(eegPath + \"/filtered/\" + eeg16ChannelFile + \".fif\", overwrite=True)"
   ]
  },
  {
   "cell_type": "code",
   "execution_count": null,
   "metadata": {},
   "outputs": [],
   "source": [
    "# map data with labels\n",
    "mddDataLst = []\n",
    "controlDataLst = []\n",
    "\n",
    "# file name is matched with the \"subject id\" and label is \"type\"\n",
    "for file in os.listdir(filteredDataPath):\n",
    "    if file.endswith(\".fif\"):\n",
    "        subjectId = file.split(\".\")[0]\n",
    "        subjectId = subjectId[1:]\n",
    "        subjectId = str(subjectId)\n",
    "        result = reportDf[reportDf['subject id'] == subjectId]\n",
    "        if result.empty:\n",
    "            continue\n",
    "        label = result[\"type\"].values[0]\n",
    "        if label == \"MDD\":\n",
    "            mddDataLst.append(subjectId)\n",
    "        elif label == \"HC\":\n",
    "            controlDataLst.append(subjectId)\n",
    "        os.rename(filteredDataPath + \"/\" + file, filteredDataPath + \"/\" + subjectId + \"_\" + label + \".fif\")"
   ]
  },
  {
   "cell_type": "markdown",
   "metadata": {},
   "source": [
    "## Feature Extraction"
   ]
  },
  {
   "cell_type": "code",
   "execution_count": 179,
   "metadata": {},
   "outputs": [],
   "source": [
    "filteredDataPath = os.getenv(\"EEG_DIR_PATH\") + \"/filtered\"\n",
    "reportPath = os.getenv(\"EEG_REPORT_PATH\")"
   ]
  },
  {
   "cell_type": "code",
   "execution_count": null,
   "metadata": {},
   "outputs": [
    {
     "name": "stdout",
     "output_type": "stream",
     "text": [
      "Opening raw data file /Users/wachiii/Workschii/brain-mdd/data/filtered/2010002_MDD.fif...\n",
      "    Range : 0 ... 75188 =      0.000 ...   300.752 secs\n",
      "Ready.\n",
      "Reading 0 ... 75188  =      0.000 ...   300.752 secs...\n",
      "Effective window size : 1.000 (s)\n",
      "Fp1 52.375162657262685\n",
      "Fp2 55.552494429370796\n",
      "F3 169.53949735519936\n",
      "F4 68.12839797561358\n",
      "C3 7.280407881390322\n",
      "C4 16.218952043857275\n",
      "P3 8.1278531070454\n",
      "P4 13.401242441071807\n",
      "O1 22.66066360206606\n",
      "O2 19.226636485941043\n",
      "F7 41.99716968486356\n",
      "F8 45.367069636612456\n",
      "T3 13.391390717511259\n",
      "T4 24.59339749494078\n",
      "T5 17.942261765488304\n",
      "T6 30.28313018380323\n"
     ]
    },
    {
     "name": "stderr",
     "output_type": "stream",
     "text": [
      "/var/folders/kf/plh_bl0s64g1swyqvnc651pr0000gn/T/ipykernel_21772/3895840086.py:10: RuntimeWarning: This filename (/Users/wachiii/Workschii/brain-mdd/data/filtered/2010002_MDD.fif) does not conform to MNE naming conventions. All raw files should end with raw.fif, raw_sss.fif, raw_tsss.fif, _meg.fif, _eeg.fif, _ieeg.fif, raw.fif.gz, raw_sss.fif.gz, raw_tsss.fif.gz, _meg.fif.gz, _eeg.fif.gz or _ieeg.fif.gz\n",
      "  raw = mne.io.read_raw_fif(tempPath, preload=True)\n"
     ]
    }
   ],
   "source": [
    "# get psd of the data; delta, theta, alpha, beta, gamma\n",
    "\n",
    "tempPath = filteredDataPath + \"/\" + \"2010002_MDD.fif\"\n",
    "# do delta psd for this file\n",
    "raw = mne.io.read_raw_fif(tempPath, preload=True)\n",
    "\n",
    "psd_results = raw.compute_psd(\n",
    "    method='welch',\n",
    "    fmin=0.5, \n",
    "    fmax=4, \n",
    "    n_fft=250, \n",
    "    n_overlap=125)\n",
    "\n",
    "psds = psd_results.get_data()\n",
    "freqs = psd_results.freqs\n",
    "\n",
    "deltaPower = np.sum(psds, axis=1)\n",
    "for channel, power in zip(ChannelMapping, deltaPower):\n",
    "    print(channel.name, power)"
   ]
  },
  {
   "cell_type": "code",
   "execution_count": null,
   "metadata": {},
   "outputs": [
    {
     "name": "stdout",
     "output_type": "stream",
     "text": [
      "Opening raw data file /Users/wachiii/Workschii/brain-mdd/data/filtered/2010016_MDD.fif...\n",
      "    Range : 0 ... 75200 =      0.000 ...   300.800 secs\n",
      "Ready.\n",
      "Reading 0 ... 75200  =      0.000 ...   300.800 secs...\n",
      "Effective window size : 1.000 (s)\n",
      "Opening raw data file /Users/wachiii/Workschii/brain-mdd/data/filtered/2010006_MDD.fif...\n",
      "    Range : 0 ... 78638 =      0.000 ...   314.552 secs\n",
      "Ready.\n",
      "Reading 0 ... 78638  =      0.000 ...   314.552 secs...\n",
      "Effective window size : 1.000 (s)\n",
      "Opening raw data file /Users/wachiii/Workschii/brain-mdd/data/filtered/2010030_MDD.fif...\n",
      "    Range : 0 ... 75401 =      0.000 ...   301.604 secs\n",
      "Ready.\n",
      "Reading 0 ... 75401  =      0.000 ...   301.604 secs...\n",
      "Effective window size : 1.000 (s)\n",
      "Opening raw data file /Users/wachiii/Workschii/brain-mdd/data/filtered/2030007_HC.fif...\n",
      "    Range : 0 ... 75749 =      0.000 ...   302.996 secs\n",
      "Ready.\n",
      "Reading 0 ... 75749  =      0.000 ...   302.996 secs...\n",
      "Effective window size : 1.000 (s)\n"
     ]
    },
    {
     "name": "stderr",
     "output_type": "stream",
     "text": [
      "/var/folders/kf/plh_bl0s64g1swyqvnc651pr0000gn/T/ipykernel_21772/821818654.py:9: RuntimeWarning: This filename (/Users/wachiii/Workschii/brain-mdd/data/filtered/2010016_MDD.fif) does not conform to MNE naming conventions. All raw files should end with raw.fif, raw_sss.fif, raw_tsss.fif, _meg.fif, _eeg.fif, _ieeg.fif, raw.fif.gz, raw_sss.fif.gz, raw_tsss.fif.gz, _meg.fif.gz, _eeg.fif.gz or _ieeg.fif.gz\n",
      "  raw = mne.io.read_raw_fif(filteredDataPath + \"/\" + file, preload=True)\n",
      "/var/folders/kf/plh_bl0s64g1swyqvnc651pr0000gn/T/ipykernel_21772/821818654.py:9: RuntimeWarning: This filename (/Users/wachiii/Workschii/brain-mdd/data/filtered/2010006_MDD.fif) does not conform to MNE naming conventions. All raw files should end with raw.fif, raw_sss.fif, raw_tsss.fif, _meg.fif, _eeg.fif, _ieeg.fif, raw.fif.gz, raw_sss.fif.gz, raw_tsss.fif.gz, _meg.fif.gz, _eeg.fif.gz or _ieeg.fif.gz\n",
      "  raw = mne.io.read_raw_fif(filteredDataPath + \"/\" + file, preload=True)\n",
      "/var/folders/kf/plh_bl0s64g1swyqvnc651pr0000gn/T/ipykernel_21772/821818654.py:9: RuntimeWarning: This filename (/Users/wachiii/Workschii/brain-mdd/data/filtered/2010030_MDD.fif) does not conform to MNE naming conventions. All raw files should end with raw.fif, raw_sss.fif, raw_tsss.fif, _meg.fif, _eeg.fif, _ieeg.fif, raw.fif.gz, raw_sss.fif.gz, raw_tsss.fif.gz, _meg.fif.gz, _eeg.fif.gz or _ieeg.fif.gz\n",
      "  raw = mne.io.read_raw_fif(filteredDataPath + \"/\" + file, preload=True)\n",
      "/var/folders/kf/plh_bl0s64g1swyqvnc651pr0000gn/T/ipykernel_21772/821818654.py:9: RuntimeWarning: This filename (/Users/wachiii/Workschii/brain-mdd/data/filtered/2030007_HC.fif) does not conform to MNE naming conventions. All raw files should end with raw.fif, raw_sss.fif, raw_tsss.fif, _meg.fif, _eeg.fif, _ieeg.fif, raw.fif.gz, raw_sss.fif.gz, raw_tsss.fif.gz, _meg.fif.gz, _eeg.fif.gz or _ieeg.fif.gz\n",
      "  raw = mne.io.read_raw_fif(filteredDataPath + \"/\" + file, preload=True)\n"
     ]
    },
    {
     "name": "stdout",
     "output_type": "stream",
     "text": [
      "Opening raw data file /Users/wachiii/Workschii/brain-mdd/data/filtered/2020020_HC.fif...\n",
      "    Range : 0 ... 75375 =      0.000 ...   301.500 secs\n",
      "Ready.\n",
      "Reading 0 ... 75375  =      0.000 ...   301.500 secs...\n",
      "Effective window size : 1.000 (s)\n",
      "Opening raw data file /Users/wachiii/Workschii/brain-mdd/data/filtered/2030019_HC.fif...\n",
      "    Range : 0 ... 75112 =      0.000 ...   300.448 secs\n",
      "Ready.\n",
      "Reading 0 ... 75112  =      0.000 ...   300.448 secs...\n",
      "Effective window size : 1.000 (s)\n",
      "Opening raw data file /Users/wachiii/Workschii/brain-mdd/data/filtered/2020016_HC.fif...\n",
      "    Range : 0 ... 75100 =      0.000 ...   300.400 secs\n",
      "Ready.\n",
      "Reading 0 ... 75100  =      0.000 ...   300.400 secs...\n",
      "Effective window size : 1.000 (s)\n",
      "Opening raw data file /Users/wachiii/Workschii/brain-mdd/data/filtered/2020008_HC.fif...\n",
      "    Range : 0 ... 75100 =      0.000 ...   300.400 secs\n",
      "Ready.\n",
      "Reading 0 ... 75100  =      0.000 ...   300.400 secs...\n",
      "Effective window size : 1.000 (s)\n",
      "Opening raw data file /Users/wachiii/Workschii/brain-mdd/data/filtered/2030005_HC.fif...\n",
      "    Range : 0 ... 75125 =      0.000 ...   300.500 secs\n",
      "Ready.\n",
      "Reading 0 ... 75125  =      0.000 ...   300.500 secs...\n",
      "Effective window size : 1.000 (s)\n"
     ]
    },
    {
     "name": "stderr",
     "output_type": "stream",
     "text": [
      "/var/folders/kf/plh_bl0s64g1swyqvnc651pr0000gn/T/ipykernel_21772/821818654.py:9: RuntimeWarning: This filename (/Users/wachiii/Workschii/brain-mdd/data/filtered/2020020_HC.fif) does not conform to MNE naming conventions. All raw files should end with raw.fif, raw_sss.fif, raw_tsss.fif, _meg.fif, _eeg.fif, _ieeg.fif, raw.fif.gz, raw_sss.fif.gz, raw_tsss.fif.gz, _meg.fif.gz, _eeg.fif.gz or _ieeg.fif.gz\n",
      "  raw = mne.io.read_raw_fif(filteredDataPath + \"/\" + file, preload=True)\n",
      "/var/folders/kf/plh_bl0s64g1swyqvnc651pr0000gn/T/ipykernel_21772/821818654.py:9: RuntimeWarning: This filename (/Users/wachiii/Workschii/brain-mdd/data/filtered/2030019_HC.fif) does not conform to MNE naming conventions. All raw files should end with raw.fif, raw_sss.fif, raw_tsss.fif, _meg.fif, _eeg.fif, _ieeg.fif, raw.fif.gz, raw_sss.fif.gz, raw_tsss.fif.gz, _meg.fif.gz, _eeg.fif.gz or _ieeg.fif.gz\n",
      "  raw = mne.io.read_raw_fif(filteredDataPath + \"/\" + file, preload=True)\n",
      "/var/folders/kf/plh_bl0s64g1swyqvnc651pr0000gn/T/ipykernel_21772/821818654.py:9: RuntimeWarning: This filename (/Users/wachiii/Workschii/brain-mdd/data/filtered/2020016_HC.fif) does not conform to MNE naming conventions. All raw files should end with raw.fif, raw_sss.fif, raw_tsss.fif, _meg.fif, _eeg.fif, _ieeg.fif, raw.fif.gz, raw_sss.fif.gz, raw_tsss.fif.gz, _meg.fif.gz, _eeg.fif.gz or _ieeg.fif.gz\n",
      "  raw = mne.io.read_raw_fif(filteredDataPath + \"/\" + file, preload=True)\n",
      "/var/folders/kf/plh_bl0s64g1swyqvnc651pr0000gn/T/ipykernel_21772/821818654.py:9: RuntimeWarning: This filename (/Users/wachiii/Workschii/brain-mdd/data/filtered/2020008_HC.fif) does not conform to MNE naming conventions. All raw files should end with raw.fif, raw_sss.fif, raw_tsss.fif, _meg.fif, _eeg.fif, _ieeg.fif, raw.fif.gz, raw_sss.fif.gz, raw_tsss.fif.gz, _meg.fif.gz, _eeg.fif.gz or _ieeg.fif.gz\n",
      "  raw = mne.io.read_raw_fif(filteredDataPath + \"/\" + file, preload=True)\n",
      "/var/folders/kf/plh_bl0s64g1swyqvnc651pr0000gn/T/ipykernel_21772/821818654.py:9: RuntimeWarning: This filename (/Users/wachiii/Workschii/brain-mdd/data/filtered/2030005_HC.fif) does not conform to MNE naming conventions. All raw files should end with raw.fif, raw_sss.fif, raw_tsss.fif, _meg.fif, _eeg.fif, _ieeg.fif, raw.fif.gz, raw_sss.fif.gz, raw_tsss.fif.gz, _meg.fif.gz, _eeg.fif.gz or _ieeg.fif.gz\n",
      "  raw = mne.io.read_raw_fif(filteredDataPath + \"/\" + file, preload=True)\n"
     ]
    },
    {
     "name": "stdout",
     "output_type": "stream",
     "text": [
      "Opening raw data file /Users/wachiii/Workschii/brain-mdd/data/filtered/2020022_HC.fif...\n",
      "    Range : 0 ... 75138 =      0.000 ...   300.552 secs\n",
      "Ready.\n",
      "Reading 0 ... 75138  =      0.000 ...   300.552 secs...\n",
      "Effective window size : 1.000 (s)\n",
      "Opening raw data file /Users/wachiii/Workschii/brain-mdd/data/filtered/2030009_HC.fif...\n",
      "    Range : 0 ... 75138 =      0.000 ...   300.552 secs\n",
      "Ready.\n",
      "Reading 0 ... 75138  =      0.000 ...   300.552 secs...\n",
      "Effective window size : 1.000 (s)\n",
      "Opening raw data file /Users/wachiii/Workschii/brain-mdd/data/filtered/2030017_HC.fif...\n",
      "    Range : 0 ... 75157 =      0.000 ...   300.628 secs\n",
      "Ready.\n",
      "Reading 0 ... 75157  =      0.000 ...   300.628 secs...\n",
      "Effective window size : 1.000 (s)\n",
      "Opening raw data file /Users/wachiii/Workschii/brain-mdd/data/filtered/2020018_HC.fif...\n",
      "    Range : 0 ... 75188 =      0.000 ...   300.752 secs\n",
      "Ready.\n",
      "Reading 0 ... 75188  =      0.000 ...   300.752 secs...\n",
      "Effective window size : 1.000 (s)\n",
      "Opening raw data file /Users/wachiii/Workschii/brain-mdd/data/filtered/2030021_HC.fif...\n",
      "    Range : 0 ... 75274 =      0.000 ...   301.096 secs\n",
      "Ready.\n",
      "Reading 0 ... 75274  =      0.000 ...   301.096 secs...\n",
      "Effective window size : 1.000 (s)\n"
     ]
    },
    {
     "name": "stderr",
     "output_type": "stream",
     "text": [
      "/var/folders/kf/plh_bl0s64g1swyqvnc651pr0000gn/T/ipykernel_21772/821818654.py:9: RuntimeWarning: This filename (/Users/wachiii/Workschii/brain-mdd/data/filtered/2020022_HC.fif) does not conform to MNE naming conventions. All raw files should end with raw.fif, raw_sss.fif, raw_tsss.fif, _meg.fif, _eeg.fif, _ieeg.fif, raw.fif.gz, raw_sss.fif.gz, raw_tsss.fif.gz, _meg.fif.gz, _eeg.fif.gz or _ieeg.fif.gz\n",
      "  raw = mne.io.read_raw_fif(filteredDataPath + \"/\" + file, preload=True)\n",
      "/var/folders/kf/plh_bl0s64g1swyqvnc651pr0000gn/T/ipykernel_21772/821818654.py:9: RuntimeWarning: This filename (/Users/wachiii/Workschii/brain-mdd/data/filtered/2030009_HC.fif) does not conform to MNE naming conventions. All raw files should end with raw.fif, raw_sss.fif, raw_tsss.fif, _meg.fif, _eeg.fif, _ieeg.fif, raw.fif.gz, raw_sss.fif.gz, raw_tsss.fif.gz, _meg.fif.gz, _eeg.fif.gz or _ieeg.fif.gz\n",
      "  raw = mne.io.read_raw_fif(filteredDataPath + \"/\" + file, preload=True)\n",
      "/var/folders/kf/plh_bl0s64g1swyqvnc651pr0000gn/T/ipykernel_21772/821818654.py:9: RuntimeWarning: This filename (/Users/wachiii/Workschii/brain-mdd/data/filtered/2030017_HC.fif) does not conform to MNE naming conventions. All raw files should end with raw.fif, raw_sss.fif, raw_tsss.fif, _meg.fif, _eeg.fif, _ieeg.fif, raw.fif.gz, raw_sss.fif.gz, raw_tsss.fif.gz, _meg.fif.gz, _eeg.fif.gz or _ieeg.fif.gz\n",
      "  raw = mne.io.read_raw_fif(filteredDataPath + \"/\" + file, preload=True)\n",
      "/var/folders/kf/plh_bl0s64g1swyqvnc651pr0000gn/T/ipykernel_21772/821818654.py:9: RuntimeWarning: This filename (/Users/wachiii/Workschii/brain-mdd/data/filtered/2020018_HC.fif) does not conform to MNE naming conventions. All raw files should end with raw.fif, raw_sss.fif, raw_tsss.fif, _meg.fif, _eeg.fif, _ieeg.fif, raw.fif.gz, raw_sss.fif.gz, raw_tsss.fif.gz, _meg.fif.gz, _eeg.fif.gz or _ieeg.fif.gz\n",
      "  raw = mne.io.read_raw_fif(filteredDataPath + \"/\" + file, preload=True)\n",
      "/var/folders/kf/plh_bl0s64g1swyqvnc651pr0000gn/T/ipykernel_21772/821818654.py:9: RuntimeWarning: This filename (/Users/wachiii/Workschii/brain-mdd/data/filtered/2030021_HC.fif) does not conform to MNE naming conventions. All raw files should end with raw.fif, raw_sss.fif, raw_tsss.fif, _meg.fif, _eeg.fif, _ieeg.fif, raw.fif.gz, raw_sss.fif.gz, raw_tsss.fif.gz, _meg.fif.gz, _eeg.fif.gz or _ieeg.fif.gz\n",
      "  raw = mne.io.read_raw_fif(filteredDataPath + \"/\" + file, preload=True)\n"
     ]
    },
    {
     "name": "stdout",
     "output_type": "stream",
     "text": [
      "Opening raw data file /Users/wachiii/Workschii/brain-mdd/data/filtered/2020014_HC.fif...\n",
      "    Range : 0 ... 75137 =      0.000 ...   300.548 secs\n",
      "Ready.\n",
      "Reading 0 ... 75137  =      0.000 ...   300.548 secs...\n",
      "Effective window size : 1.000 (s)\n",
      "Opening raw data file /Users/wachiii/Workschii/brain-mdd/data/filtered/2010028_MDD.fif...\n",
      "    Range : 0 ... 75113 =      0.000 ...   300.452 secs\n",
      "Ready.\n",
      "Reading 0 ... 75113  =      0.000 ...   300.452 secs...\n",
      "Effective window size : 1.000 (s)\n",
      "Opening raw data file /Users/wachiii/Workschii/brain-mdd/data/filtered/2020010_HC.fif...\n",
      "    Range : 0 ... 76038 =      0.000 ...   304.152 secs\n",
      "Ready.\n",
      "Reading 0 ... 76038  =      0.000 ...   304.152 secs...\n",
      "Effective window size : 1.000 (s)\n",
      "Opening raw data file /Users/wachiii/Workschii/brain-mdd/data/filtered/2010033_MDD.fif...\n",
      "    Range : 0 ... 75288 =      0.000 ...   301.152 secs\n",
      "Ready.\n",
      "Reading 0 ... 75288  =      0.000 ...   301.152 secs...\n",
      "Effective window size : 1.000 (s)\n",
      "Opening raw data file /Users/wachiii/Workschii/brain-mdd/data/filtered/2010023_MDD.fif...\n",
      "    Range : 0 ... 75088 =      0.000 ...   300.352 secs\n",
      "Ready.\n",
      "Reading 0 ... 75088  =      0.000 ...   300.352 secs...\n",
      "Effective window size : 1.000 (s)\n"
     ]
    },
    {
     "name": "stderr",
     "output_type": "stream",
     "text": [
      "/var/folders/kf/plh_bl0s64g1swyqvnc651pr0000gn/T/ipykernel_21772/821818654.py:9: RuntimeWarning: This filename (/Users/wachiii/Workschii/brain-mdd/data/filtered/2020014_HC.fif) does not conform to MNE naming conventions. All raw files should end with raw.fif, raw_sss.fif, raw_tsss.fif, _meg.fif, _eeg.fif, _ieeg.fif, raw.fif.gz, raw_sss.fif.gz, raw_tsss.fif.gz, _meg.fif.gz, _eeg.fif.gz or _ieeg.fif.gz\n",
      "  raw = mne.io.read_raw_fif(filteredDataPath + \"/\" + file, preload=True)\n",
      "/var/folders/kf/plh_bl0s64g1swyqvnc651pr0000gn/T/ipykernel_21772/821818654.py:9: RuntimeWarning: This filename (/Users/wachiii/Workschii/brain-mdd/data/filtered/2010028_MDD.fif) does not conform to MNE naming conventions. All raw files should end with raw.fif, raw_sss.fif, raw_tsss.fif, _meg.fif, _eeg.fif, _ieeg.fif, raw.fif.gz, raw_sss.fif.gz, raw_tsss.fif.gz, _meg.fif.gz, _eeg.fif.gz or _ieeg.fif.gz\n",
      "  raw = mne.io.read_raw_fif(filteredDataPath + \"/\" + file, preload=True)\n",
      "/var/folders/kf/plh_bl0s64g1swyqvnc651pr0000gn/T/ipykernel_21772/821818654.py:9: RuntimeWarning: This filename (/Users/wachiii/Workschii/brain-mdd/data/filtered/2020010_HC.fif) does not conform to MNE naming conventions. All raw files should end with raw.fif, raw_sss.fif, raw_tsss.fif, _meg.fif, _eeg.fif, _ieeg.fif, raw.fif.gz, raw_sss.fif.gz, raw_tsss.fif.gz, _meg.fif.gz, _eeg.fif.gz or _ieeg.fif.gz\n",
      "  raw = mne.io.read_raw_fif(filteredDataPath + \"/\" + file, preload=True)\n",
      "/var/folders/kf/plh_bl0s64g1swyqvnc651pr0000gn/T/ipykernel_21772/821818654.py:9: RuntimeWarning: This filename (/Users/wachiii/Workschii/brain-mdd/data/filtered/2010033_MDD.fif) does not conform to MNE naming conventions. All raw files should end with raw.fif, raw_sss.fif, raw_tsss.fif, _meg.fif, _eeg.fif, _ieeg.fif, raw.fif.gz, raw_sss.fif.gz, raw_tsss.fif.gz, _meg.fif.gz, _eeg.fif.gz or _ieeg.fif.gz\n",
      "  raw = mne.io.read_raw_fif(filteredDataPath + \"/\" + file, preload=True)\n",
      "/var/folders/kf/plh_bl0s64g1swyqvnc651pr0000gn/T/ipykernel_21772/821818654.py:9: RuntimeWarning: This filename (/Users/wachiii/Workschii/brain-mdd/data/filtered/2010023_MDD.fif) does not conform to MNE naming conventions. All raw files should end with raw.fif, raw_sss.fif, raw_tsss.fif, _meg.fif, _eeg.fif, _ieeg.fif, raw.fif.gz, raw_sss.fif.gz, raw_tsss.fif.gz, _meg.fif.gz, _eeg.fif.gz or _ieeg.fif.gz\n",
      "  raw = mne.io.read_raw_fif(filteredDataPath + \"/\" + file, preload=True)\n"
     ]
    },
    {
     "name": "stdout",
     "output_type": "stream",
     "text": [
      "Opening raw data file /Users/wachiii/Workschii/brain-mdd/data/filtered/2020026_HC.fif...\n",
      "    Range : 0 ... 75150 =      0.000 ...   300.600 secs\n",
      "Ready.\n",
      "Reading 0 ... 75150  =      0.000 ...   300.600 secs...\n",
      "Effective window size : 1.000 (s)\n",
      "Opening raw data file /Users/wachiii/Workschii/brain-mdd/data/filtered/2010015_MDD.fif...\n",
      "    Range : 0 ... 75651 =      0.000 ...   302.604 secs\n",
      "Ready.\n",
      "Reading 0 ... 75651  =      0.000 ...   302.604 secs...\n",
      "Effective window size : 1.000 (s)\n",
      "Opening raw data file /Users/wachiii/Workschii/brain-mdd/data/filtered/2010005_MDD.fif...\n",
      "    Range : 0 ... 75225 =      0.000 ...   300.900 secs\n",
      "Ready.\n",
      "Reading 0 ... 75225  =      0.000 ...   300.900 secs...\n",
      "Effective window size : 1.000 (s)\n",
      "Opening raw data file /Users/wachiii/Workschii/brain-mdd/data/filtered/2010004_MDD.fif...\n",
      "    Range : 0 ... 75338 =      0.000 ...   301.352 secs\n",
      "Ready.\n",
      "Reading 0 ... 75338  =      0.000 ...   301.352 secs...\n",
      "Effective window size : 1.000 (s)\n",
      "Opening raw data file /Users/wachiii/Workschii/brain-mdd/data/filtered/2010022_MDD.fif...\n",
      "    Range : 0 ... 75275 =      0.000 ...   301.100 secs\n",
      "Ready.\n",
      "Reading 0 ... 75275  =      0.000 ...   301.100 secs...\n"
     ]
    },
    {
     "name": "stderr",
     "output_type": "stream",
     "text": [
      "/var/folders/kf/plh_bl0s64g1swyqvnc651pr0000gn/T/ipykernel_21772/821818654.py:9: RuntimeWarning: This filename (/Users/wachiii/Workschii/brain-mdd/data/filtered/2020026_HC.fif) does not conform to MNE naming conventions. All raw files should end with raw.fif, raw_sss.fif, raw_tsss.fif, _meg.fif, _eeg.fif, _ieeg.fif, raw.fif.gz, raw_sss.fif.gz, raw_tsss.fif.gz, _meg.fif.gz, _eeg.fif.gz or _ieeg.fif.gz\n",
      "  raw = mne.io.read_raw_fif(filteredDataPath + \"/\" + file, preload=True)\n",
      "/var/folders/kf/plh_bl0s64g1swyqvnc651pr0000gn/T/ipykernel_21772/821818654.py:9: RuntimeWarning: This filename (/Users/wachiii/Workschii/brain-mdd/data/filtered/2010015_MDD.fif) does not conform to MNE naming conventions. All raw files should end with raw.fif, raw_sss.fif, raw_tsss.fif, _meg.fif, _eeg.fif, _ieeg.fif, raw.fif.gz, raw_sss.fif.gz, raw_tsss.fif.gz, _meg.fif.gz, _eeg.fif.gz or _ieeg.fif.gz\n",
      "  raw = mne.io.read_raw_fif(filteredDataPath + \"/\" + file, preload=True)\n",
      "/var/folders/kf/plh_bl0s64g1swyqvnc651pr0000gn/T/ipykernel_21772/821818654.py:9: RuntimeWarning: This filename (/Users/wachiii/Workschii/brain-mdd/data/filtered/2010005_MDD.fif) does not conform to MNE naming conventions. All raw files should end with raw.fif, raw_sss.fif, raw_tsss.fif, _meg.fif, _eeg.fif, _ieeg.fif, raw.fif.gz, raw_sss.fif.gz, raw_tsss.fif.gz, _meg.fif.gz, _eeg.fif.gz or _ieeg.fif.gz\n",
      "  raw = mne.io.read_raw_fif(filteredDataPath + \"/\" + file, preload=True)\n",
      "/var/folders/kf/plh_bl0s64g1swyqvnc651pr0000gn/T/ipykernel_21772/821818654.py:9: RuntimeWarning: This filename (/Users/wachiii/Workschii/brain-mdd/data/filtered/2010004_MDD.fif) does not conform to MNE naming conventions. All raw files should end with raw.fif, raw_sss.fif, raw_tsss.fif, _meg.fif, _eeg.fif, _ieeg.fif, raw.fif.gz, raw_sss.fif.gz, raw_tsss.fif.gz, _meg.fif.gz, _eeg.fif.gz or _ieeg.fif.gz\n",
      "  raw = mne.io.read_raw_fif(filteredDataPath + \"/\" + file, preload=True)\n",
      "/var/folders/kf/plh_bl0s64g1swyqvnc651pr0000gn/T/ipykernel_21772/821818654.py:9: RuntimeWarning: This filename (/Users/wachiii/Workschii/brain-mdd/data/filtered/2010022_MDD.fif) does not conform to MNE naming conventions. All raw files should end with raw.fif, raw_sss.fif, raw_tsss.fif, _meg.fif, _eeg.fif, _ieeg.fif, raw.fif.gz, raw_sss.fif.gz, raw_tsss.fif.gz, _meg.fif.gz, _eeg.fif.gz or _ieeg.fif.gz\n",
      "  raw = mne.io.read_raw_fif(filteredDataPath + \"/\" + file, preload=True)\n"
     ]
    },
    {
     "name": "stdout",
     "output_type": "stream",
     "text": [
      "Effective window size : 1.000 (s)\n",
      "Opening raw data file /Users/wachiii/Workschii/brain-mdd/data/filtered/2030003_HC.fif...\n",
      "    Range : 0 ... 75512 =      0.000 ...   302.048 secs\n",
      "Ready.\n",
      "Reading 0 ... 75512  =      0.000 ...   302.048 secs...\n",
      "Effective window size : 1.000 (s)\n",
      "Opening raw data file /Users/wachiii/Workschii/brain-mdd/data/filtered/2010008_MDD.fif...\n",
      "    Range : 0 ... 82650 =      0.000 ...   330.600 secs\n",
      "Ready.\n",
      "Reading 0 ... 82650  =      0.000 ...   330.600 secs...\n",
      "Effective window size : 1.000 (s)\n",
      "Opening raw data file /Users/wachiii/Workschii/brain-mdd/data/filtered/2010018_MDD.fif...\n",
      "    Range : 0 ... 75350 =      0.000 ...   301.400 secs\n",
      "Ready.\n",
      "Reading 0 ... 75350  =      0.000 ...   301.400 secs...\n",
      "Effective window size : 1.000 (s)\n",
      "Opening raw data file /Users/wachiii/Workschii/brain-mdd/data/filtered/2030014_HC.fif...\n",
      "    Range : 0 ... 75187 =      0.000 ...   300.748 secs\n",
      "Ready.\n",
      "Reading 0 ... 75187  =      0.000 ...   300.748 secs...\n",
      "Effective window size : 1.000 (s)\n",
      "Opening raw data file /Users/wachiii/Workschii/brain-mdd/data/filtered/2030018_HC.fif...\n",
      "    Range : 0 ... 75163 =      0.000 ...   300.652 secs\n",
      "Ready.\n",
      "Reading 0 ... 75163  =      0.000 ...   300.652 secs...\n",
      "Effective window size : 1.000 (s)\n"
     ]
    },
    {
     "name": "stderr",
     "output_type": "stream",
     "text": [
      "/var/folders/kf/plh_bl0s64g1swyqvnc651pr0000gn/T/ipykernel_21772/821818654.py:9: RuntimeWarning: This filename (/Users/wachiii/Workschii/brain-mdd/data/filtered/2030003_HC.fif) does not conform to MNE naming conventions. All raw files should end with raw.fif, raw_sss.fif, raw_tsss.fif, _meg.fif, _eeg.fif, _ieeg.fif, raw.fif.gz, raw_sss.fif.gz, raw_tsss.fif.gz, _meg.fif.gz, _eeg.fif.gz or _ieeg.fif.gz\n",
      "  raw = mne.io.read_raw_fif(filteredDataPath + \"/\" + file, preload=True)\n",
      "/var/folders/kf/plh_bl0s64g1swyqvnc651pr0000gn/T/ipykernel_21772/821818654.py:9: RuntimeWarning: This filename (/Users/wachiii/Workschii/brain-mdd/data/filtered/2010008_MDD.fif) does not conform to MNE naming conventions. All raw files should end with raw.fif, raw_sss.fif, raw_tsss.fif, _meg.fif, _eeg.fif, _ieeg.fif, raw.fif.gz, raw_sss.fif.gz, raw_tsss.fif.gz, _meg.fif.gz, _eeg.fif.gz or _ieeg.fif.gz\n",
      "  raw = mne.io.read_raw_fif(filteredDataPath + \"/\" + file, preload=True)\n",
      "/var/folders/kf/plh_bl0s64g1swyqvnc651pr0000gn/T/ipykernel_21772/821818654.py:9: RuntimeWarning: This filename (/Users/wachiii/Workschii/brain-mdd/data/filtered/2010018_MDD.fif) does not conform to MNE naming conventions. All raw files should end with raw.fif, raw_sss.fif, raw_tsss.fif, _meg.fif, _eeg.fif, _ieeg.fif, raw.fif.gz, raw_sss.fif.gz, raw_tsss.fif.gz, _meg.fif.gz, _eeg.fif.gz or _ieeg.fif.gz\n",
      "  raw = mne.io.read_raw_fif(filteredDataPath + \"/\" + file, preload=True)\n",
      "/var/folders/kf/plh_bl0s64g1swyqvnc651pr0000gn/T/ipykernel_21772/821818654.py:9: RuntimeWarning: This filename (/Users/wachiii/Workschii/brain-mdd/data/filtered/2030014_HC.fif) does not conform to MNE naming conventions. All raw files should end with raw.fif, raw_sss.fif, raw_tsss.fif, _meg.fif, _eeg.fif, _ieeg.fif, raw.fif.gz, raw_sss.fif.gz, raw_tsss.fif.gz, _meg.fif.gz, _eeg.fif.gz or _ieeg.fif.gz\n",
      "  raw = mne.io.read_raw_fif(filteredDataPath + \"/\" + file, preload=True)\n",
      "/var/folders/kf/plh_bl0s64g1swyqvnc651pr0000gn/T/ipykernel_21772/821818654.py:9: RuntimeWarning: This filename (/Users/wachiii/Workschii/brain-mdd/data/filtered/2030018_HC.fif) does not conform to MNE naming conventions. All raw files should end with raw.fif, raw_sss.fif, raw_tsss.fif, _meg.fif, _eeg.fif, _ieeg.fif, raw.fif.gz, raw_sss.fif.gz, raw_tsss.fif.gz, _meg.fif.gz, _eeg.fif.gz or _ieeg.fif.gz\n",
      "  raw = mne.io.read_raw_fif(filteredDataPath + \"/\" + file, preload=True)\n"
     ]
    },
    {
     "name": "stdout",
     "output_type": "stream",
     "text": [
      "Opening raw data file /Users/wachiii/Workschii/brain-mdd/data/filtered/2020021_HC.fif...\n",
      "    Range : 0 ... 75125 =      0.000 ...   300.500 secs\n",
      "Ready.\n",
      "Reading 0 ... 75125  =      0.000 ...   300.500 secs...\n",
      "Effective window size : 1.000 (s)\n",
      "Opening raw data file /Users/wachiii/Workschii/brain-mdd/data/filtered/2030006_HC.fif...\n",
      "    Range : 0 ... 75687 =      0.000 ...   302.748 secs\n",
      "Ready.\n",
      "Reading 0 ... 75687  =      0.000 ...   302.748 secs...\n",
      "Effective window size : 1.000 (s)\n",
      "Opening raw data file /Users/wachiii/Workschii/brain-mdd/data/filtered/2010011_MDD.fif...\n",
      "    Range : 0 ... 75125 =      0.000 ...   300.500 secs\n",
      "Ready.\n",
      "Reading 0 ... 75125  =      0.000 ...   300.500 secs...\n",
      "Effective window size : 1.000 (s)\n",
      "Opening raw data file /Users/wachiii/Workschii/brain-mdd/data/filtered/2010010_MDD.fif...\n",
      "    Range : 0 ... 75100 =      0.000 ...   300.400 secs\n",
      "Ready.\n",
      "Reading 0 ... 75100  =      0.000 ...   300.400 secs...\n",
      "Effective window size : 1.000 (s)\n",
      "Opening raw data file /Users/wachiii/Workschii/brain-mdd/data/filtered/2030020_HC.fif...\n",
      "    Range : 0 ... 75126 =      0.000 ...   300.504 secs\n",
      "Ready.\n",
      "Reading 0 ... 75126  =      0.000 ...   300.504 secs...\n",
      "Effective window size : 1.000 (s)\n"
     ]
    },
    {
     "name": "stderr",
     "output_type": "stream",
     "text": [
      "/var/folders/kf/plh_bl0s64g1swyqvnc651pr0000gn/T/ipykernel_21772/821818654.py:9: RuntimeWarning: This filename (/Users/wachiii/Workschii/brain-mdd/data/filtered/2020021_HC.fif) does not conform to MNE naming conventions. All raw files should end with raw.fif, raw_sss.fif, raw_tsss.fif, _meg.fif, _eeg.fif, _ieeg.fif, raw.fif.gz, raw_sss.fif.gz, raw_tsss.fif.gz, _meg.fif.gz, _eeg.fif.gz or _ieeg.fif.gz\n",
      "  raw = mne.io.read_raw_fif(filteredDataPath + \"/\" + file, preload=True)\n",
      "/var/folders/kf/plh_bl0s64g1swyqvnc651pr0000gn/T/ipykernel_21772/821818654.py:9: RuntimeWarning: This filename (/Users/wachiii/Workschii/brain-mdd/data/filtered/2030006_HC.fif) does not conform to MNE naming conventions. All raw files should end with raw.fif, raw_sss.fif, raw_tsss.fif, _meg.fif, _eeg.fif, _ieeg.fif, raw.fif.gz, raw_sss.fif.gz, raw_tsss.fif.gz, _meg.fif.gz, _eeg.fif.gz or _ieeg.fif.gz\n",
      "  raw = mne.io.read_raw_fif(filteredDataPath + \"/\" + file, preload=True)\n",
      "/var/folders/kf/plh_bl0s64g1swyqvnc651pr0000gn/T/ipykernel_21772/821818654.py:9: RuntimeWarning: This filename (/Users/wachiii/Workschii/brain-mdd/data/filtered/2010011_MDD.fif) does not conform to MNE naming conventions. All raw files should end with raw.fif, raw_sss.fif, raw_tsss.fif, _meg.fif, _eeg.fif, _ieeg.fif, raw.fif.gz, raw_sss.fif.gz, raw_tsss.fif.gz, _meg.fif.gz, _eeg.fif.gz or _ieeg.fif.gz\n",
      "  raw = mne.io.read_raw_fif(filteredDataPath + \"/\" + file, preload=True)\n",
      "/var/folders/kf/plh_bl0s64g1swyqvnc651pr0000gn/T/ipykernel_21772/821818654.py:9: RuntimeWarning: This filename (/Users/wachiii/Workschii/brain-mdd/data/filtered/2010010_MDD.fif) does not conform to MNE naming conventions. All raw files should end with raw.fif, raw_sss.fif, raw_tsss.fif, _meg.fif, _eeg.fif, _ieeg.fif, raw.fif.gz, raw_sss.fif.gz, raw_tsss.fif.gz, _meg.fif.gz, _eeg.fif.gz or _ieeg.fif.gz\n",
      "  raw = mne.io.read_raw_fif(filteredDataPath + \"/\" + file, preload=True)\n",
      "/var/folders/kf/plh_bl0s64g1swyqvnc651pr0000gn/T/ipykernel_21772/821818654.py:9: RuntimeWarning: This filename (/Users/wachiii/Workschii/brain-mdd/data/filtered/2030020_HC.fif) does not conform to MNE naming conventions. All raw files should end with raw.fif, raw_sss.fif, raw_tsss.fif, _meg.fif, _eeg.fif, _ieeg.fif, raw.fif.gz, raw_sss.fif.gz, raw_tsss.fif.gz, _meg.fif.gz, _eeg.fif.gz or _ieeg.fif.gz\n",
      "  raw = mne.io.read_raw_fif(filteredDataPath + \"/\" + file, preload=True)\n"
     ]
    },
    {
     "name": "stdout",
     "output_type": "stream",
     "text": [
      "Opening raw data file /Users/wachiii/Workschii/brain-mdd/data/filtered/2020019_HC.fif...\n",
      "    Range : 0 ... 75162 =      0.000 ...   300.648 secs\n",
      "Ready.\n",
      "Reading 0 ... 75162  =      0.000 ...   300.648 secs...\n",
      "Effective window size : 1.000 (s)\n",
      "Opening raw data file /Users/wachiii/Workschii/brain-mdd/data/filtered/2020015_HC.fif...\n",
      "    Range : 0 ... 75138 =      0.000 ...   300.552 secs\n",
      "Ready.\n",
      "Reading 0 ... 75138  =      0.000 ...   300.552 secs...\n",
      "Effective window size : 1.000 (s)\n",
      "Opening raw data file /Users/wachiii/Workschii/brain-mdd/data/filtered/2010019_MDD.fif...\n",
      "    Range : 0 ... 75400 =      0.000 ...   301.600 secs\n",
      "Ready.\n",
      "Reading 0 ... 75400  =      0.000 ...   301.600 secs...\n",
      "Effective window size : 1.000 (s)\n",
      "Opening raw data file /Users/wachiii/Workschii/brain-mdd/data/filtered/2020023_HC.fif...\n",
      "    Range : 0 ... 75200 =      0.000 ...   300.800 secs\n",
      "Ready.\n",
      "Reading 0 ... 75200  =      0.000 ...   300.800 secs...\n",
      "Effective window size : 1.000 (s)\n",
      "Opening raw data file /Users/wachiii/Workschii/brain-mdd/data/filtered/2030004_HC.fif...\n",
      "    Range : 0 ... 75150 =      0.000 ...   300.600 secs\n",
      "Ready.\n",
      "Reading 0 ... 75150  =      0.000 ...   300.600 secs...\n",
      "Effective window size : 1.000 (s)\n",
      "Opening raw data file /Users/wachiii/Workschii/brain-mdd/data/filtered/2010026_MDD.fif...\n"
     ]
    },
    {
     "name": "stderr",
     "output_type": "stream",
     "text": [
      "/var/folders/kf/plh_bl0s64g1swyqvnc651pr0000gn/T/ipykernel_21772/821818654.py:9: RuntimeWarning: This filename (/Users/wachiii/Workschii/brain-mdd/data/filtered/2020019_HC.fif) does not conform to MNE naming conventions. All raw files should end with raw.fif, raw_sss.fif, raw_tsss.fif, _meg.fif, _eeg.fif, _ieeg.fif, raw.fif.gz, raw_sss.fif.gz, raw_tsss.fif.gz, _meg.fif.gz, _eeg.fif.gz or _ieeg.fif.gz\n",
      "  raw = mne.io.read_raw_fif(filteredDataPath + \"/\" + file, preload=True)\n",
      "/var/folders/kf/plh_bl0s64g1swyqvnc651pr0000gn/T/ipykernel_21772/821818654.py:9: RuntimeWarning: This filename (/Users/wachiii/Workschii/brain-mdd/data/filtered/2020015_HC.fif) does not conform to MNE naming conventions. All raw files should end with raw.fif, raw_sss.fif, raw_tsss.fif, _meg.fif, _eeg.fif, _ieeg.fif, raw.fif.gz, raw_sss.fif.gz, raw_tsss.fif.gz, _meg.fif.gz, _eeg.fif.gz or _ieeg.fif.gz\n",
      "  raw = mne.io.read_raw_fif(filteredDataPath + \"/\" + file, preload=True)\n",
      "/var/folders/kf/plh_bl0s64g1swyqvnc651pr0000gn/T/ipykernel_21772/821818654.py:9: RuntimeWarning: This filename (/Users/wachiii/Workschii/brain-mdd/data/filtered/2010019_MDD.fif) does not conform to MNE naming conventions. All raw files should end with raw.fif, raw_sss.fif, raw_tsss.fif, _meg.fif, _eeg.fif, _ieeg.fif, raw.fif.gz, raw_sss.fif.gz, raw_tsss.fif.gz, _meg.fif.gz, _eeg.fif.gz or _ieeg.fif.gz\n",
      "  raw = mne.io.read_raw_fif(filteredDataPath + \"/\" + file, preload=True)\n",
      "/var/folders/kf/plh_bl0s64g1swyqvnc651pr0000gn/T/ipykernel_21772/821818654.py:9: RuntimeWarning: This filename (/Users/wachiii/Workschii/brain-mdd/data/filtered/2020023_HC.fif) does not conform to MNE naming conventions. All raw files should end with raw.fif, raw_sss.fif, raw_tsss.fif, _meg.fif, _eeg.fif, _ieeg.fif, raw.fif.gz, raw_sss.fif.gz, raw_tsss.fif.gz, _meg.fif.gz, _eeg.fif.gz or _ieeg.fif.gz\n",
      "  raw = mne.io.read_raw_fif(filteredDataPath + \"/\" + file, preload=True)\n",
      "/var/folders/kf/plh_bl0s64g1swyqvnc651pr0000gn/T/ipykernel_21772/821818654.py:9: RuntimeWarning: This filename (/Users/wachiii/Workschii/brain-mdd/data/filtered/2030004_HC.fif) does not conform to MNE naming conventions. All raw files should end with raw.fif, raw_sss.fif, raw_tsss.fif, _meg.fif, _eeg.fif, _ieeg.fif, raw.fif.gz, raw_sss.fif.gz, raw_tsss.fif.gz, _meg.fif.gz, _eeg.fif.gz or _ieeg.fif.gz\n",
      "  raw = mne.io.read_raw_fif(filteredDataPath + \"/\" + file, preload=True)\n"
     ]
    },
    {
     "name": "stdout",
     "output_type": "stream",
     "text": [
      "    Range : 0 ... 75125 =      0.000 ...   300.500 secs\n",
      "Ready.\n",
      "Reading 0 ... 75125  =      0.000 ...   300.500 secs...\n",
      "Effective window size : 1.000 (s)\n",
      "Opening raw data file /Users/wachiii/Workschii/brain-mdd/data/filtered/2010036_MDD.fif...\n",
      "    Range : 0 ... 75113 =      0.000 ...   300.452 secs\n",
      "Ready.\n",
      "Reading 0 ... 75113  =      0.000 ...   300.452 secs...\n",
      "Effective window size : 1.000 (s)\n",
      "Opening raw data file /Users/wachiii/Workschii/brain-mdd/data/filtered/2010012_MDD.fif...\n",
      "    Range : 0 ... 75125 =      0.000 ...   300.500 secs\n",
      "Ready.\n",
      "Reading 0 ... 75125  =      0.000 ...   300.500 secs...\n",
      "Effective window size : 1.000 (s)\n",
      "Opening raw data file /Users/wachiii/Workschii/brain-mdd/data/filtered/2010002_MDD.fif...\n",
      "    Range : 0 ... 75188 =      0.000 ...   300.752 secs\n",
      "Ready.\n",
      "Reading 0 ... 75188  =      0.000 ...   300.752 secs...\n",
      "Effective window size : 1.000 (s)\n",
      "Opening raw data file /Users/wachiii/Workschii/brain-mdd/data/filtered/2020027_HC.fif...\n",
      "    Range : 0 ... 83163 =      0.000 ...   332.652 secs\n",
      "Ready.\n",
      "Reading 0 ... 83163  =      0.000 ...   332.652 secs...\n",
      "Effective window size : 1.000 (s)\n"
     ]
    },
    {
     "name": "stderr",
     "output_type": "stream",
     "text": [
      "/var/folders/kf/plh_bl0s64g1swyqvnc651pr0000gn/T/ipykernel_21772/821818654.py:9: RuntimeWarning: This filename (/Users/wachiii/Workschii/brain-mdd/data/filtered/2010026_MDD.fif) does not conform to MNE naming conventions. All raw files should end with raw.fif, raw_sss.fif, raw_tsss.fif, _meg.fif, _eeg.fif, _ieeg.fif, raw.fif.gz, raw_sss.fif.gz, raw_tsss.fif.gz, _meg.fif.gz, _eeg.fif.gz or _ieeg.fif.gz\n",
      "  raw = mne.io.read_raw_fif(filteredDataPath + \"/\" + file, preload=True)\n",
      "/var/folders/kf/plh_bl0s64g1swyqvnc651pr0000gn/T/ipykernel_21772/821818654.py:9: RuntimeWarning: This filename (/Users/wachiii/Workschii/brain-mdd/data/filtered/2010036_MDD.fif) does not conform to MNE naming conventions. All raw files should end with raw.fif, raw_sss.fif, raw_tsss.fif, _meg.fif, _eeg.fif, _ieeg.fif, raw.fif.gz, raw_sss.fif.gz, raw_tsss.fif.gz, _meg.fif.gz, _eeg.fif.gz or _ieeg.fif.gz\n",
      "  raw = mne.io.read_raw_fif(filteredDataPath + \"/\" + file, preload=True)\n",
      "/var/folders/kf/plh_bl0s64g1swyqvnc651pr0000gn/T/ipykernel_21772/821818654.py:9: RuntimeWarning: This filename (/Users/wachiii/Workschii/brain-mdd/data/filtered/2010012_MDD.fif) does not conform to MNE naming conventions. All raw files should end with raw.fif, raw_sss.fif, raw_tsss.fif, _meg.fif, _eeg.fif, _ieeg.fif, raw.fif.gz, raw_sss.fif.gz, raw_tsss.fif.gz, _meg.fif.gz, _eeg.fif.gz or _ieeg.fif.gz\n",
      "  raw = mne.io.read_raw_fif(filteredDataPath + \"/\" + file, preload=True)\n",
      "/var/folders/kf/plh_bl0s64g1swyqvnc651pr0000gn/T/ipykernel_21772/821818654.py:9: RuntimeWarning: This filename (/Users/wachiii/Workschii/brain-mdd/data/filtered/2010002_MDD.fif) does not conform to MNE naming conventions. All raw files should end with raw.fif, raw_sss.fif, raw_tsss.fif, _meg.fif, _eeg.fif, _ieeg.fif, raw.fif.gz, raw_sss.fif.gz, raw_tsss.fif.gz, _meg.fif.gz, _eeg.fif.gz or _ieeg.fif.gz\n",
      "  raw = mne.io.read_raw_fif(filteredDataPath + \"/\" + file, preload=True)\n",
      "/var/folders/kf/plh_bl0s64g1swyqvnc651pr0000gn/T/ipykernel_21772/821818654.py:9: RuntimeWarning: This filename (/Users/wachiii/Workschii/brain-mdd/data/filtered/2020027_HC.fif) does not conform to MNE naming conventions. All raw files should end with raw.fif, raw_sss.fif, raw_tsss.fif, _meg.fif, _eeg.fif, _ieeg.fif, raw.fif.gz, raw_sss.fif.gz, raw_tsss.fif.gz, _meg.fif.gz, _eeg.fif.gz or _ieeg.fif.gz\n",
      "  raw = mne.io.read_raw_fif(filteredDataPath + \"/\" + file, preload=True)\n"
     ]
    },
    {
     "name": "stdout",
     "output_type": "stream",
     "text": [
      "Opening raw data file /Users/wachiii/Workschii/brain-mdd/data/filtered/2010034_MDD.fif...\n",
      "    Range : 0 ... 75150 =      0.000 ...   300.600 secs\n",
      "Ready.\n",
      "Reading 0 ... 75150  =      0.000 ...   300.600 secs...\n",
      "Effective window size : 1.000 (s)\n",
      "Opening raw data file /Users/wachiii/Workschii/brain-mdd/data/filtered/2010024_MDD.fif...\n",
      "    Range : 0 ... 75388 =      0.000 ...   301.552 secs\n",
      "Ready.\n",
      "Reading 0 ... 75388  =      0.000 ...   301.552 secs...\n",
      "Effective window size : 1.000 (s)\n",
      "Opening raw data file /Users/wachiii/Workschii/brain-mdd/data/filtered/2030002_HC.fif...\n",
      "    Range : 0 ... 75524 =      0.000 ...   302.096 secs\n",
      "Ready.\n",
      "Reading 0 ... 75524  =      0.000 ...   302.096 secs...\n",
      "Effective window size : 1.000 (s)\n",
      "Opening raw data file /Users/wachiii/Workschii/brain-mdd/data/filtered/2020025_HC.fif...\n",
      "    Range : 0 ... 83875 =      0.000 ...   335.500 secs\n",
      "Ready.\n",
      "Reading 0 ... 83875  =      0.000 ...   335.500 secs...\n",
      "Effective window size : 1.000 (s)\n",
      "Opening raw data file /Users/wachiii/Workschii/brain-mdd/data/filtered/2020029_HC.fif...\n",
      "    Range : 0 ... 75113 =      0.000 ...   300.452 secs\n",
      "Ready.\n",
      "Reading 0 ... 75113  =      0.000 ...   300.452 secs...\n",
      "Effective window size : 1.000 (s)\n"
     ]
    },
    {
     "name": "stderr",
     "output_type": "stream",
     "text": [
      "/var/folders/kf/plh_bl0s64g1swyqvnc651pr0000gn/T/ipykernel_21772/821818654.py:9: RuntimeWarning: This filename (/Users/wachiii/Workschii/brain-mdd/data/filtered/2010034_MDD.fif) does not conform to MNE naming conventions. All raw files should end with raw.fif, raw_sss.fif, raw_tsss.fif, _meg.fif, _eeg.fif, _ieeg.fif, raw.fif.gz, raw_sss.fif.gz, raw_tsss.fif.gz, _meg.fif.gz, _eeg.fif.gz or _ieeg.fif.gz\n",
      "  raw = mne.io.read_raw_fif(filteredDataPath + \"/\" + file, preload=True)\n",
      "/var/folders/kf/plh_bl0s64g1swyqvnc651pr0000gn/T/ipykernel_21772/821818654.py:9: RuntimeWarning: This filename (/Users/wachiii/Workschii/brain-mdd/data/filtered/2010024_MDD.fif) does not conform to MNE naming conventions. All raw files should end with raw.fif, raw_sss.fif, raw_tsss.fif, _meg.fif, _eeg.fif, _ieeg.fif, raw.fif.gz, raw_sss.fif.gz, raw_tsss.fif.gz, _meg.fif.gz, _eeg.fif.gz or _ieeg.fif.gz\n",
      "  raw = mne.io.read_raw_fif(filteredDataPath + \"/\" + file, preload=True)\n",
      "/var/folders/kf/plh_bl0s64g1swyqvnc651pr0000gn/T/ipykernel_21772/821818654.py:9: RuntimeWarning: This filename (/Users/wachiii/Workschii/brain-mdd/data/filtered/2030002_HC.fif) does not conform to MNE naming conventions. All raw files should end with raw.fif, raw_sss.fif, raw_tsss.fif, _meg.fif, _eeg.fif, _ieeg.fif, raw.fif.gz, raw_sss.fif.gz, raw_tsss.fif.gz, _meg.fif.gz, _eeg.fif.gz or _ieeg.fif.gz\n",
      "  raw = mne.io.read_raw_fif(filteredDataPath + \"/\" + file, preload=True)\n",
      "/var/folders/kf/plh_bl0s64g1swyqvnc651pr0000gn/T/ipykernel_21772/821818654.py:9: RuntimeWarning: This filename (/Users/wachiii/Workschii/brain-mdd/data/filtered/2020025_HC.fif) does not conform to MNE naming conventions. All raw files should end with raw.fif, raw_sss.fif, raw_tsss.fif, _meg.fif, _eeg.fif, _ieeg.fif, raw.fif.gz, raw_sss.fif.gz, raw_tsss.fif.gz, _meg.fif.gz, _eeg.fif.gz or _ieeg.fif.gz\n",
      "  raw = mne.io.read_raw_fif(filteredDataPath + \"/\" + file, preload=True)\n",
      "/var/folders/kf/plh_bl0s64g1swyqvnc651pr0000gn/T/ipykernel_21772/821818654.py:9: RuntimeWarning: This filename (/Users/wachiii/Workschii/brain-mdd/data/filtered/2020029_HC.fif) does not conform to MNE naming conventions. All raw files should end with raw.fif, raw_sss.fif, raw_tsss.fif, _meg.fif, _eeg.fif, _ieeg.fif, raw.fif.gz, raw_sss.fif.gz, raw_tsss.fif.gz, _meg.fif.gz, _eeg.fif.gz or _ieeg.fif.gz\n",
      "  raw = mne.io.read_raw_fif(filteredDataPath + \"/\" + file, preload=True)\n"
     ]
    },
    {
     "name": "stdout",
     "output_type": "stream",
     "text": [
      "Opening raw data file /Users/wachiii/Workschii/brain-mdd/data/filtered/2020013_HC.fif...\n",
      "    Range : 0 ... 75250 =      0.000 ...   301.000 secs\n",
      "Ready.\n",
      "Reading 0 ... 75250  =      0.000 ...   301.000 secs...\n",
      "Effective window size : 1.000 (s)\n",
      "Opening raw data file /Users/wachiii/Workschii/brain-mdd/data/filtered/2010013_MDD.fif...\n",
      "    Range : 0 ... 75175 =      0.000 ...   300.700 secs\n",
      "Ready.\n",
      "Reading 0 ... 75175  =      0.000 ...   300.700 secs...\n",
      "Effective window size : 1.000 (s)\n"
     ]
    },
    {
     "name": "stderr",
     "output_type": "stream",
     "text": [
      "/var/folders/kf/plh_bl0s64g1swyqvnc651pr0000gn/T/ipykernel_21772/821818654.py:9: RuntimeWarning: This filename (/Users/wachiii/Workschii/brain-mdd/data/filtered/2020013_HC.fif) does not conform to MNE naming conventions. All raw files should end with raw.fif, raw_sss.fif, raw_tsss.fif, _meg.fif, _eeg.fif, _ieeg.fif, raw.fif.gz, raw_sss.fif.gz, raw_tsss.fif.gz, _meg.fif.gz, _eeg.fif.gz or _ieeg.fif.gz\n",
      "  raw = mne.io.read_raw_fif(filteredDataPath + \"/\" + file, preload=True)\n",
      "/var/folders/kf/plh_bl0s64g1swyqvnc651pr0000gn/T/ipykernel_21772/821818654.py:9: RuntimeWarning: This filename (/Users/wachiii/Workschii/brain-mdd/data/filtered/2010013_MDD.fif) does not conform to MNE naming conventions. All raw files should end with raw.fif, raw_sss.fif, raw_tsss.fif, _meg.fif, _eeg.fif, _ieeg.fif, raw.fif.gz, raw_sss.fif.gz, raw_tsss.fif.gz, _meg.fif.gz, _eeg.fif.gz or _ieeg.fif.gz\n",
      "  raw = mne.io.read_raw_fif(filteredDataPath + \"/\" + file, preload=True)\n"
     ]
    }
   ],
   "source": [
    "# for loop extract the delta power for every file\n",
    "deltaPsdFeatures = {\n",
    "    \"MDD\": [],\n",
    "    \"HC\": []\n",
    "}\n",
    "\n",
    "for file in os.listdir(filteredDataPath):\n",
    "    if file.endswith(\".fif\"):\n",
    "        raw = mne.io.read_raw_fif(filteredDataPath + \"/\" + file, preload=True)\n",
    "        psd_results = raw.compute_psd(\n",
    "            method='welch',\n",
    "            fmin=0.5, \n",
    "            fmax=4, \n",
    "            n_fft=250, \n",
    "            n_overlap=125)\n",
    "        psds = psd_results.get_data()\n",
    "        freqs = psd_results.freqs\n",
    "        deltaPower = np.sum(psds, axis=1)\n",
    "        subjectId = file.split(\"_\")[0]\n",
    "        label = file.split(\"_\")[1].split(\".\")[0]\n",
    "        if label == \"MDD\":\n",
    "            deltaPsdFeatures[\"MDD\"].append(deltaPower)\n",
    "        elif label == \"HC\":\n",
    "            deltaPsdFeatures[\"HC\"].append(deltaPower)"
   ]
  },
  {
   "cell_type": "code",
   "execution_count": 202,
   "metadata": {},
   "outputs": [
    {
     "name": "stdout",
     "output_type": "stream",
     "text": [
      "22\n",
      "29\n",
      "(16,)\n",
      "(16,)\n",
      "16\n",
      "[168.75440525 228.34566841 265.2089286  245.73737815  40.4632164\n",
      "  57.65304631  74.78315293  12.03980802 151.21494369   8.31849829\n",
      " 260.7622015  141.26545584  14.93280942  45.69571296 105.29632094\n",
      "  21.74806612]\n"
     ]
    }
   ],
   "source": [
    "print(len(deltaPsdFeatures[\"MDD\"]))\n",
    "print(len(deltaPsdFeatures[\"HC\"]))\n",
    "\n",
    "print(deltaPsdFeatures[\"MDD\"][0].shape)\n",
    "print(deltaPsdFeatures[\"HC\"][0].shape)\n",
    "\n",
    "print(len(deltaPsdFeatures[\"MDD\"][0]))\n",
    "print(deltaPsdFeatures[\"HC\"][0])"
   ]
  },
  {
   "cell_type": "markdown",
   "metadata": {},
   "source": [
    "## Classification"
   ]
  },
  {
   "cell_type": "code",
   "execution_count": null,
   "metadata": {},
   "outputs": [],
   "source": []
  }
 ],
 "metadata": {
  "kernelspec": {
   "display_name": "brain-mdd",
   "language": "python",
   "name": "python3"
  },
  "language_info": {
   "codemirror_mode": {
    "name": "ipython",
    "version": 3
   },
   "file_extension": ".py",
   "mimetype": "text/x-python",
   "name": "python",
   "nbconvert_exporter": "python",
   "pygments_lexer": "ipython3",
   "version": "3.12.7"
  }
 },
 "nbformat": 4,
 "nbformat_minor": 2
}
