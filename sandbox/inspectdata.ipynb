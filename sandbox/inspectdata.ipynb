{
 "cells": [
  {
   "cell_type": "markdown",
   "metadata": {},
   "source": [
    "## Clean Data\n",
    "- rename file: from 02020021rest 20150707 1720.mat -> 02020021.mat"
   ]
  },
  {
   "cell_type": "code",
   "execution_count": null,
   "metadata": {},
   "outputs": [],
   "source": [
    "# import os\n",
    "# import scipy.io as sio\n",
    "# import numpy as np\n",
    "\n",
    "# eegPath = \"brain-mdd/dataset\"\n",
    "# newEEGPath = \"brain-mdd/clean_dataset\"\n",
    "\n",
    "# for filename in os.listdir(eegPath):\n",
    "#     if filename.endswith(\".mat\") or filename.endswith(\"..mat\"):\n",
    "#         data = sio.loadmat(eegPath + \"/\" + filename)\n",
    "#         getKey = \"a\" + filename\n",
    "#         getKey = getKey.replace(\" \", \"_\")\n",
    "#         getKey = getKey.replace(\"..\", \"\")\n",
    "#         getKey = getKey.replace(\".\", \"\")\n",
    "#         if getKey in data:\n",
    "#             temp = data[getKey]\n",
    "#             newFilename = filename[:8]\n",
    "#             np.save(newEEGPath + \"/\" + newFilename, temp)\n",
    "#         else:\n",
    "#             print(f\"Key {getKey} not found in {filename}\")\n",
    "#     else:\n",
    "#         print(\"Skipping \" + filename)"
   ]
  },
  {
   "cell_type": "markdown",
   "metadata": {},
   "source": [
    "## Inspect Data\n",
    "\n"
   ]
  },
  {
   "cell_type": "code",
   "execution_count": null,
   "metadata": {},
   "outputs": [],
   "source": [
    "import dotenv\n",
    "import numpy as np\n",
    "import os\n",
    "import matplotlib.pyplot as plt\n",
    "import pandas as pd\n",
    "import enum\n",
    "import mne\n",
    "\n",
    "dotenv.load_dotenv()\n",
    "\n",
    "class ChannleMapping(enum.Enum):\n",
    "    FP1 = 22\n",
    "    FP2 = 9\n",
    "    F3 = 24\n",
    "    F4 = 124\n",
    "    C3 = 36\n",
    "    C4 = 104\n",
    "    P3 = 52\n",
    "    P4 = 92\n",
    "    O1 = 70\n",
    "    O2 = 83\n",
    "    F7 = 33\n",
    "    F8 = 122\n",
    "    T3 = 45\n",
    "    T4 = 108\n",
    "    T5 = 58\n",
    "    T6 = 96"
   ]
  },
  {
   "cell_type": "code",
   "execution_count": null,
   "metadata": {},
   "outputs": [],
   "source": [
    "# Get the path to the EEG data and report\n",
    "eegPath = os.getenv(\"EEG_DIR_PATH\")\n",
    "reportPath = os.getenv(\"EEG_REPORT_PATH\")\n",
    "\n",
    "report = pd.read_excel(reportPath)\n",
    "reportDf = pd.DataFrame(report)\n",
    "reportDf"
   ]
  },
  {
   "cell_type": "code",
   "execution_count": null,
   "metadata": {},
   "outputs": [],
   "source": [
    "filename = \"02010004.npy\"\n",
    "data = np.load(eegPath + \"/\" + filename)\n",
    "\n",
    "selectedChannelsEeg = []\n",
    "\n",
    "for channel in ChannelMapping:\n",
    "    print(channel)\n",
    "    selectedChannelsEeg.append(data[channel.value])\n",
    "    \n",
    "# cast to 2 dimensional array\n",
    "selectedChannelsEeg = np.array(selectedChannelsEeg)\n",
    "selectedChannelsEeg = selectedChannelsEeg\n",
    "selectedChannelsEeg.shape"
   ]
  },
  {
   "cell_type": "code",
   "execution_count": 12,
   "metadata": {},
   "outputs": [
    {
     "data": {
      "image/png": "[encoded data removed]",
      "text/plain": [
       "<Figure size 640x480 with 1 Axes>"
      ]
     },
     "metadata": {},
     "output_type": "display_data"
    }
   ],
   "source": [
    "# generate sine wave of 20hz + 50hz\n",
    "from scipy.signal import butter, lfilter\n",
    "\n",
    "def fftProcess(inputBuffer):\n",
    "    fftResults = []\n",
    "    for channelData in inputBuffer:\n",
    "        fftData = np.fft.fft(channelData)\n",
    "        fftData = np.abs(fftData)\n",
    "        fftData = fftData[0:int(len(channelData)/2)]\n",
    "        fftResults.append(fftData)\n",
    "    return fftResults\n",
    "\n",
    "def butter_bandpass(lowcut, highcut, fs, order=5):\n",
    "    nyquist = 0.5 * fs\n",
    "    low = lowcut / nyquist\n",
    "    high = highcut / nyquist\n",
    "    b, a = butter(order, [low, high], btype='band')\n",
    "    return b, a\n",
    "\n",
    "def butter_bandpass_filter(data, lowcut, highcut, fs, order=5):\n",
    "    b, a = butter_bandpass(lowcut, highcut, fs, order=order)\n",
    "    y = lfilter(b, a, data)\n",
    "    return y\n",
    "\n",
    "fs = 512*2\n",
    "t = np.arange(0, 1024) / fs\n",
    "signal = np.sin(2 * np.pi * 20 * t) + np.sin(2 * np.pi * 50 * t)\n",
    "fftOri = np.fft.fft(signal)\n",
    "fftOri = np.abs(fftOri)\n",
    "fftOri = fftOri[0:int(len(fftOri)/2)]\n",
    "\n",
    "filteredSignal = butter_bandpass_filter(signal, 0.5, 40, fs, order=4)\n",
    "filteredFft = np.fft.fft(filteredSignal)\n",
    "filteredFft = np.abs(filteredFft)\n",
    "filteredFft = filteredFft[0:int(len(filteredFft)/2)]\n",
    "\n",
    "# use my fft process\n",
    "\n",
    "\n",
    "# plot compare between filtered and unfiltered signal\n",
    "plt.plot(fftOri)\n",
    "plt.plot(filteredFft)\n",
    "plt.xlim(0, 60)\n",
    "plt.show()"
   ]
  },
  {
   "cell_type": "code",
   "execution_count": null,
   "metadata": {},
   "outputs": [],
   "source": [
    "rawData = np.load(eegPath + \"/raw/02020010.npy\")\n",
    "eegData = np.load(eegPath + \"/16channels/02020010.npy\")\n",
    "print(rawData.shape)\n",
    "print(eegData.shape)\n",
    "\n",
    "channelNames = [channel.name for channel in ChannelMapping]\n",
    "channelTypes = ['eeg'] * len(channelNames)\n",
    "\n",
    "sfreq = 250\n",
    "info = mne.create_info(channelNames, sfreq, channelTypes)\n",
    "raw = mne.io.RawArray(eegData, info)\n",
    "\n",
    "montage = mne.channels.make_standard_montage('standard_1020')\n",
    "raw.set_montage(montage)\n",
    "\n",
    "raw.plot_psd(fmin=0.5, fmax=40, average=True, spatial_colors=True) # plot power spectral density\n",
    "raw.plot(n_channels=16, scalings='auto', title='Original')\n",
    "\n",
    "# Bandpass filter 0.5-40 Hz\n",
    "lowcut = 0.5\n",
    "highcut = 40\n",
    "raw.filter(lowcut, highcut, fir_design='firwin', skip_by_annotation='edge')\n",
    "\n",
    "# ICA\n",
    "ica = mne.preprocessing.ICA(n_components=16, random_state=42, max_iter='auto')\n",
    "ica.fit(raw)\n",
    "ica.plot_components()\n",
    "raw = ica.apply(raw)\n",
    "\n",
    "raw.plot_psd(fmin=0.5, fmax=40, average=True, spatial_colors=True)\n",
    "raw.plot(n_channels=16, scalings='auto', title='After ICA')"
   ]
  }
 ],
 "metadata": {
  "kernelspec": {
   "display_name": "brain-mdd",
   "language": "python",
   "name": "python3"
  },
  "language_info": {
   "codemirror_mode": {
    "name": "ipython",
    "version": 3
   },
   "file_extension": ".py",
   "mimetype": "text/x-python",
   "name": "python",
   "nbconvert_exporter": "python",
   "pygments_lexer": "ipython3",
   "version": "3.12.7"
  }
 },
 "nbformat": 4,
 "nbformat_minor": 2
}
